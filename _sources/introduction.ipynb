{
 "cells": [
  {
   "cell_type": "markdown",
   "id": "57761318-653f-4a27-a8fa-295e8837d335",
   "metadata": {},
   "source": [
    "Introduction to the Jupyter Lab interface\n",
    "=========================================\n",
    "\n",
    "Today computing is used everywhere. We are going to introduce you to Jupyter Lab, which is a computing environment that you can use to write Python code to solve problems, do analysis, make figures, and more."
   ]
  },
  {
   "cell_type": "markdown",
   "id": "b96a9e71-3953-4f55-bc5e-2d9c27fe0cac",
   "metadata": {},
   "source": [
    "# Tour of the browser interface\n",
    "\n",
    "The Jupyter lab browser interface has a few main parts. The main window this cell is in is where most computations are done. This window is made of interactive cells; some are text based, and some are code based. You can click on a cell to make it \"active\" so you can interact with it. The active cell will show a blue bar on the left. You can also use the up/down arrows to change what cell is selected. There may be tabs at the top, where you can select different files, or other open windows.\n",
    "\n",
    "At the top of the frame are menus. You can use these to open files, or perform other tasks on the active tab.\n",
    "\n",
    "On the left of the window are buttons to open a file explorer, see what is running, or see a table of contents. The table of contents is clickable, so you can jump to any cell that is labeled there."
   ]
  },
  {
   "cell_type": "markdown",
   "id": "e5b32388-ae3e-4a3b-84e8-8fd8c6673d96",
   "metadata": {},
   "source": [
    "## Jupyter notebooks\n",
    "\n",
    "You are reading a Jupyter notebook. It is a file that ends in .ipynb, in this case you are reading `introduction.ipynb`. A notebook is made of cells; this one is a text-based cell using a markup language called Markdown. It is a pretty simple way to write plain text. \n",
    "\n",
    "The next cell is a Code cell. It looks different than a Markdown cell. The background is light grey, and there is a count indicator next to it like `[N]:` which indicates if the cell has been run, and the execution count. \n",
    "\n",
    "You can run this cell several different ways. First select it by clicking on it. Then press Ctrl-enter to run it, or click the run button in the button menu under the tab. It looks like an arrow pointing to the right. Note that each time you run the cell, the execution count will become one higher.\n",
    "\n",
    "![image.png](run.png)"
   ]
  },
  {
   "cell_type": "code",
   "execution_count": 6,
   "id": "36f8bf18-daf7-4d8a-b994-86c4a3d04bb7",
   "metadata": {},
   "outputs": [
    {
     "name": "stdout",
     "output_type": "stream",
     "text": [
      "Hello World\n"
     ]
    }
   ],
   "source": [
    "print('Hello World')"
   ]
  },
  {
   "cell_type": "markdown",
   "id": "2f761ff0-1189-4794-b7e2-b1d705ffb8d1",
   "metadata": {},
   "source": [
    "In the cell above we ran our first Python command that prints a string. The `print` is in green because it is a command. `'Hello World'` is the string. It is red in color to indicate it is a string. We use single quotes here, but you can also use double quotes.\n",
    "\n",
    "Select the empty cell below, and then type a command to output `Hello SAMS!`. "
   ]
  },
  {
   "cell_type": "code",
   "execution_count": null,
   "id": "948fb539-0111-4864-a796-046a5a28163e",
   "metadata": {},
   "outputs": [],
   "source": []
  },
  {
   "cell_type": "markdown",
   "id": "b2638aeb-ff4b-461e-a132-80cf7a2fda39",
   "metadata": {},
   "source": [
    "# Introduction to Python with Jupyter\n",
    "\n",
    "Our aim today is to get just enough introduction to some big ideas in Python to do some data analysis. Now you know that Jupyter notebooks are a way to type code into a cell, and then run it to see what the output is."
   ]
  },
  {
   "cell_type": "markdown",
   "id": "4179c711-d18f-4dfa-abf4-01b60979d37d",
   "metadata": {},
   "source": [
    "## Basic calculations\n",
    "\n",
    "Python is very good at doing basic calculations with numbers. You can do all the usual things with algebra. Here is addition."
   ]
  },
  {
   "cell_type": "code",
   "execution_count": 20,
   "id": "cfdf0e05-ea68-499c-acbc-203ef62849ae",
   "metadata": {},
   "outputs": [
    {
     "data": {
      "text/plain": [
       "5"
      ]
     },
     "execution_count": 20,
     "metadata": {},
     "output_type": "execute_result"
    }
   ],
   "source": [
    "2 + 3"
   ]
  },
  {
   "cell_type": "markdown",
   "id": "62879451-7878-49ac-b761-5b7139c7001e",
   "metadata": {},
   "source": [
    "This next cell might have a surprise; you only see the output for the last line. "
   ]
  },
  {
   "cell_type": "code",
   "execution_count": 23,
   "id": "a0e2ae49-5770-430d-9c84-3182a989f64a",
   "metadata": {},
   "outputs": [
    {
     "data": {
      "text/plain": [
       "-1"
      ]
     },
     "execution_count": 23,
     "metadata": {},
     "output_type": "execute_result"
    }
   ],
   "source": [
    "2 + 3\n",
    "2 - 3"
   ]
  },
  {
   "cell_type": "markdown",
   "id": "fd7d0473-25f7-46c5-b497-a054e0fdfbd2",
   "metadata": {},
   "source": [
    "You can either print both lines, or you could separate them into separate cells."
   ]
  },
  {
   "cell_type": "code",
   "execution_count": 22,
   "id": "6a14afa2-29cd-4fe5-9ff0-f1296e47c1ac",
   "metadata": {},
   "outputs": [
    {
     "name": "stdout",
     "output_type": "stream",
     "text": [
      "5\n",
      "-1\n"
     ]
    }
   ],
   "source": [
    "print(2 + 3)\n",
    "print(2 - 3)"
   ]
  },
  {
   "cell_type": "markdown",
   "id": "977ef79f-b9d5-48f9-9952-5daffcbe98c9",
   "metadata": {},
   "source": [
    "Here are the basic algebraic operators. There are a few new ideas in this cell in addition to the operators:\n",
    "\n",
    "1. The 5 operations are surrounded by parentheses, which group them so you see all the results.\n",
    "2. \\# is a comment, and Python ignores everything after it on that line"
   ]
  },
  {
   "cell_type": "code",
   "execution_count": 24,
   "id": "e338eba1-e6e1-4687-bf1f-75ada2437da6",
   "metadata": {},
   "outputs": [
    {
     "data": {
      "text/plain": [
       "(2, -1, 6, 0.6666666666666666, 8)"
      ]
     },
     "execution_count": 24,
     "metadata": {},
     "output_type": "execute_result"
    }
   ],
   "source": [
    "(1 + 1, # addition\n",
    " 1 - 2, # subtraction\n",
    " 3 * 2, # multiplication\n",
    " 2 / 3, # division\n",
    " 2**3)  # exponentiation"
   ]
  },
  {
   "cell_type": "markdown",
   "id": "877a6739-9069-4fc0-93f7-d649336b5dbf",
   "metadata": {},
   "source": [
    "```{note}\n",
    "Python does not provide basic math functions like sin, cos, exp \"out of the box\". We will see soon how to use functions like those.\n",
    "```"
   ]
  },
  {
   "cell_type": "markdown",
   "id": "63b2c256-51dc-4570-8015-80110f89c17f",
   "metadata": {},
   "source": [
    "## Variables\n",
    "\n",
    "One of the first things we need to be able to do is store results so that we can reuse them later. Variables also make your work more readable. \n",
    "\n",
    "We define variables like this:\n",
    "\n",
    "    a = 3\n",
    "\n",
    "To see how we can use them, suppose we have the quadratic equation:\n",
    "\n",
    "$a x^2 + b x + c = 0$. The solution to this equation is known to be $x = \\frac{-b \\pm \\sqrt{b^2 - 4 a c}}{2 a}$.\n",
    "\n",
    "Now for concreteness, suppose we have $a = 0.5$, $b = 2.5$, and $c = 2$. Without variables we write:"
   ]
  },
  {
   "cell_type": "code",
   "execution_count": 31,
   "id": "56965a82-7a85-4086-b24e-830b78a51aa1",
   "metadata": {},
   "outputs": [
    {
     "data": {
      "text/plain": [
       "(4.0, 1.0)"
      ]
     },
     "execution_count": 31,
     "metadata": {},
     "output_type": "execute_result"
    }
   ],
   "source": [
    "(2.5 + ((-2.5)**2 - 4 * 0.5 * 2)**0.5) / (2 * 0.5), (2.5 - ((-2.5)**2 - 4 * 0.5 * 2)**0.5) / (2 * 0.5)"
   ]
  },
  {
   "cell_type": "markdown",
   "id": "22b43fb5-e7cd-4d81-8e27-1806117aef64",
   "metadata": {},
   "source": [
    "Note the extensive use of parentheses to make sure the order of operations is correct. We also use `**0.5` for the square root here.\n",
    "\n",
    "Otherwise, that is a lot of repetition of values, and not easy to see that it is clearly correct. Let's do it again with variables."
   ]
  },
  {
   "cell_type": "code",
   "execution_count": 34,
   "id": "350cec3e-f07a-4729-a336-7fc670291b55",
   "metadata": {},
   "outputs": [
    {
     "data": {
      "text/plain": [
       "(4.0, 1.0)"
      ]
     },
     "execution_count": 34,
     "metadata": {},
     "output_type": "execute_result"
    }
   ],
   "source": [
    "a = 0.5\n",
    "b = -2.5\n",
    "c = 2\n",
    "\n",
    "(-b + (b**2 - 4 * a * c)**0.5) / (2 * a), (-b - (b**2 - 4 * a * c)**0.5) / (2 * a)"
   ]
  },
  {
   "cell_type": "markdown",
   "id": "a5fb5ed6-de18-4faa-8989-7c966ac0d0ee",
   "metadata": {},
   "source": [
    "Now, you can more easily see the structure of the quadratic equation as we wrote it above, and it is easier to see that this structure is correct. The remaining question now is only to see if $a,b,c$ are correctly defined.\n",
    "\n",
    "Variables are defined persistently, and you can use them in other cells."
   ]
  },
  {
   "cell_type": "code",
   "execution_count": 35,
   "id": "f126b8c8-cc80-4592-8b6e-f547497c8302",
   "metadata": {},
   "outputs": [
    {
     "data": {
      "text/plain": [
       "0.0"
      ]
     },
     "execution_count": 35,
     "metadata": {},
     "output_type": "execute_result"
    }
   ],
   "source": [
    "a + b + c"
   ]
  },
  {
   "cell_type": "markdown",
   "id": "238f9095-a999-4460-9ce3-b674418eae4d",
   "metadata": {},
   "source": [
    "*Exercise*\n",
    "Use the quadratic equation to find the roots of $x^2 - 5 x + 6=0$."
   ]
  },
  {
   "cell_type": "code",
   "execution_count": 36,
   "id": "252e2f2c-f60e-47b0-8afe-e819eaa5daa2",
   "metadata": {
    "tags": [
     "hide-input"
    ]
   },
   "outputs": [
    {
     "data": {
      "text/plain": [
       "(3.0, 2.0)"
      ]
     },
     "execution_count": 36,
     "metadata": {},
     "output_type": "execute_result"
    }
   ],
   "source": [
    "a = 1\n",
    "b = -5\n",
    "c = 6\n",
    "\n",
    "(-b + (b**2 - 4 * a * c)**0.5) / (2 * a), (-b - (b**2 - 4 * a * c)**0.5) / (2 * a)"
   ]
  },
  {
   "cell_type": "markdown",
   "id": "11d481bd-4f5c-4c54-a36b-0c409c2889ad",
   "metadata": {},
   "source": [
    "One of the big benefits of using a notebook like this is documenting your work. You can see exactly what you did, and you can rerun the notebook later if needed. It is easy to make a copy of your notebook to try something new, or edit this notebook to do something differently."
   ]
  },
  {
   "cell_type": "markdown",
   "id": "0b85dd35-23df-4685-93fb-9caab949cd0f",
   "metadata": {},
   "source": [
    "## Brief introduction to data structures\n",
    "\n",
    "Python provides several data structures, or types of data. We previously looked at strings. Here we only consider numbers and lists.\n",
    "\n",
    "An integer is a whole number like -1, 0, 123.\n",
    "\n",
    "A float is a number with decimals like 1.02\n",
    "\n",
    "A list is like a container of things, the syntax looks like `[1, 2.1, 4]`. The things do not have be the same, you can mix the types of data in them.\n",
    "\n",
    "A potential source of confusion occurs when we try to do algebra on these. Python lets you \"add\" things, but addition means different things for different objects. For numbers, it is addition in the algebraic sense.\n",
    "\n",
    "For strings and lists though, addition means concatenate, or join them. Other operations are sometimes also defined for these, e.g. subtraction and multiplication."
   ]
  },
  {
   "cell_type": "code",
   "execution_count": 39,
   "id": "d3b59a7e-a617-463e-be5f-eddbf97a8307",
   "metadata": {},
   "outputs": [
    {
     "data": {
      "text/plain": [
       "'Hello  World'"
      ]
     },
     "execution_count": 39,
     "metadata": {},
     "output_type": "execute_result"
    }
   ],
   "source": [
    "'Hello' + ' ' + ' World'"
   ]
  },
  {
   "cell_type": "code",
   "execution_count": 43,
   "id": "8f501c7a-8ebc-420e-abd2-f4bc81a85e0d",
   "metadata": {},
   "outputs": [
    {
     "data": {
      "text/plain": [
       "[1, 2, 3, 4, 5]"
      ]
     },
     "execution_count": 43,
     "metadata": {},
     "output_type": "execute_result"
    }
   ],
   "source": [
    "[1, 2] + [3, 4, 5]"
   ]
  },
  {
   "cell_type": "code",
   "execution_count": 44,
   "id": "5d94a29c-be5c-4b9b-8c19-1ae3a4810307",
   "metadata": {},
   "outputs": [
    {
     "data": {
      "text/plain": [
       "[1, 2, 1, 2, 1, 2]"
      ]
     },
     "execution_count": 44,
     "metadata": {},
     "output_type": "execute_result"
    }
   ],
   "source": [
    "[1, 2] * 3  # makes a new list that is 3 copies of the original"
   ]
  },
  {
   "cell_type": "markdown",
   "id": "58b24426-3aa9-469c-9a90-06ab3aee1ca3",
   "metadata": {},
   "source": [
    "In data science this is usually not what we want to do with lists of numbers. Instead, we want to do operations on each element of the list. For this we need a *different* data structure called an *array*. With arrays we can do algebraic operations. We discuss those next."
   ]
  },
  {
   "cell_type": "markdown",
   "id": "8c80ce88-3c34-4091-93cb-5d8bdb61674b",
   "metadata": {},
   "source": [
    "## Numpy\n",
    "\n",
    "As mentioned earlier, the core Python language does not provide most mathematical functions out of the box. You *have to import these functions from somewhere to use them*. [Numpy](https://numpy.org) is a numerical Python library that provides arrays, and functions that work on arrays. To use these we have to *import* them into the notebook like this.\n",
    "\n",
    "    import numpy as np"
   ]
  },
  {
   "cell_type": "code",
   "execution_count": 40,
   "id": "1de45f21-d273-46e3-b122-94063f65ae8b",
   "metadata": {},
   "outputs": [],
   "source": [
    "import numpy as np"
   ]
  },
  {
   "cell_type": "markdown",
   "id": "21df3e08-998a-480b-9d8e-5cca4a1fe05f",
   "metadata": {},
   "source": [
    "Now we can create an array, and then do elementwise algebraic operations on it."
   ]
  },
  {
   "cell_type": "code",
   "execution_count": 42,
   "id": "4cf47e97-ef5c-4670-a198-160e02362d80",
   "metadata": {},
   "outputs": [
    {
     "data": {
      "text/plain": [
       "array([2, 4, 6])"
      ]
     },
     "execution_count": 42,
     "metadata": {},
     "output_type": "execute_result"
    }
   ],
   "source": [
    "a = np.array([1, 2, 3])\n",
    "2 * a"
   ]
  },
  {
   "cell_type": "markdown",
   "id": "46af9007-94c1-4a0c-a41c-e8208e90d270",
   "metadata": {},
   "source": [
    "Numpy provides many ways to [create](https://numpy.org/doc/stable/reference/routines.array-creation.html) arrays. One of the more common ones is `np.linspace` which creates an array of linearly spaced points from a start to end point. The default number of points is 50."
   ]
  },
  {
   "cell_type": "code",
   "execution_count": 51,
   "id": "355c1598-5a83-4649-8174-38162673d177",
   "metadata": {},
   "outputs": [
    {
     "data": {
      "text/plain": [
       "array([0.        , 0.12822827, 0.25645654, 0.38468481, 0.51291309,\n",
       "       0.64114136, 0.76936963, 0.8975979 , 1.02582617, 1.15405444,\n",
       "       1.28228272, 1.41051099, 1.53873926, 1.66696753, 1.7951958 ,\n",
       "       1.92342407, 2.05165235, 2.17988062, 2.30810889, 2.43633716,\n",
       "       2.56456543, 2.6927937 , 2.82102197, 2.94925025, 3.07747852,\n",
       "       3.20570679, 3.33393506, 3.46216333, 3.5903916 , 3.71861988,\n",
       "       3.84684815, 3.97507642, 4.10330469, 4.23153296, 4.35976123,\n",
       "       4.48798951, 4.61621778, 4.74444605, 4.87267432, 5.00090259,\n",
       "       5.12913086, 5.25735913, 5.38558741, 5.51381568, 5.64204395,\n",
       "       5.77027222, 5.89850049, 6.02672876, 6.15495704, 6.28318531])"
      ]
     },
     "execution_count": 51,
     "metadata": {},
     "output_type": "execute_result"
    }
   ],
   "source": [
    "x = np.linspace(0, 2 * np.pi)\n",
    "x"
   ]
  },
  {
   "cell_type": "markdown",
   "id": "9a8b400e-bd79-41ef-a803-9c5978f144b8",
   "metadata": {},
   "source": [
    "Numpy provides many [mathematical functions](https://numpy.org/doc/stable/reference/routines.math.html) that operate on arrays. All the standard trigonometric functions, sqrt, exp, etc. are available."
   ]
  },
  {
   "cell_type": "code",
   "execution_count": 52,
   "id": "4679b4e1-aaaa-48eb-b994-fb85d8e45f95",
   "metadata": {},
   "outputs": [
    {
     "data": {
      "text/plain": [
       "array([ 0.00000000e+00,  1.27877162e-01,  2.53654584e-01,  3.75267005e-01,\n",
       "        4.90717552e-01,  5.98110530e-01,  6.95682551e-01,  7.81831482e-01,\n",
       "        8.55142763e-01,  9.14412623e-01,  9.58667853e-01,  9.87181783e-01,\n",
       "        9.99486216e-01,  9.95379113e-01,  9.74927912e-01,  9.38468422e-01,\n",
       "        8.86599306e-01,  8.20172255e-01,  7.40277997e-01,  6.48228395e-01,\n",
       "        5.45534901e-01,  4.33883739e-01,  3.15108218e-01,  1.91158629e-01,\n",
       "        6.40702200e-02, -6.40702200e-02, -1.91158629e-01, -3.15108218e-01,\n",
       "       -4.33883739e-01, -5.45534901e-01, -6.48228395e-01, -7.40277997e-01,\n",
       "       -8.20172255e-01, -8.86599306e-01, -9.38468422e-01, -9.74927912e-01,\n",
       "       -9.95379113e-01, -9.99486216e-01, -9.87181783e-01, -9.58667853e-01,\n",
       "       -9.14412623e-01, -8.55142763e-01, -7.81831482e-01, -6.95682551e-01,\n",
       "       -5.98110530e-01, -4.90717552e-01, -3.75267005e-01, -2.53654584e-01,\n",
       "       -1.27877162e-01, -2.44929360e-16])"
      ]
     },
     "execution_count": 52,
     "metadata": {},
     "output_type": "execute_result"
    }
   ],
   "source": [
    "y = np.sin(x)\n",
    "y"
   ]
  },
  {
   "cell_type": "markdown",
   "id": "647f78e3-c9de-4eda-8d64-748d724e4d30",
   "metadata": {},
   "source": [
    "## matplotlib\n",
    "\n",
    "Looking at arrays is not convenient. It is much more common to make plots to see how the data looks. We use [matplotlib](https://matplotlib.org/) for this. As with numpy, we have to import it.\n",
    "\n",
    "    import matplotlib.pyplot as plt\n",
    "    \n",
    "Then, we can make simple plots of $y$ vs. $x$.    "
   ]
  },
  {
   "cell_type": "code",
   "execution_count": 56,
   "id": "f0f40292-67a4-4abf-809e-b64efb0b199a",
   "metadata": {},
   "outputs": [],
   "source": [
    "import matplotlib.pyplot as plt"
   ]
  },
  {
   "cell_type": "code",
   "execution_count": 57,
   "id": "dbf1aca1-79a3-401b-b0ce-884c74b146a1",
   "metadata": {},
   "outputs": [
    {
     "data": {
      "image/png": "[encoded data removed]",
      "text/plain": [
       "<Figure size 640x480 with 1 Axes>"
      ]
     },
     "metadata": {},
     "output_type": "display_data"
    }
   ],
   "source": [
    "plt.plot(x, y)\n",
    "plt.xlabel('x')\n",
    "plt.ylabel('y');  # use a ; to suppress the output of the last line."
   ]
  },
  {
   "cell_type": "markdown",
   "id": "01ecbf9b-6f94-496c-b87e-13fb4355a3fd",
   "metadata": {},
   "source": [
    "## Data files\n",
    "\n",
    "Very often the data we need is stored in data files. Here is an [example file](https://raw.githubusercontent.com/Tanishqa-10/AskPython/main/Sampledata.csv). This file is plain text with data in rows. The values in each row are separated by commas, so this is called a csv file, or comma-separated values file. \n",
    "\n",
    "We use the next cell to retrieve the data and display it here. We import a new library to get the data, and then print the string that it returns."
   ]
  },
  {
   "cell_type": "code",
   "execution_count": 78,
   "id": "a4d703d1-17fb-4268-a08c-8dc9c2daea9b",
   "metadata": {},
   "outputs": [
    {
     "name": "stdout",
     "output_type": "stream",
     "text": [
      "Name,Last Name,Member,City,Code,Amount\n",
      "Jim,Doe,No,Ohio, JD,8075\n",
      "Gill,McGinnis,Yes,Texas, GM,9119\n",
      "Joe,Repici,Yes,Bostan, JR,8075\n",
      "Stephen,Tyler,No,LA,ST,91234\n",
      "Oscar,Blankman,No,NYC,OB,298\n",
      "Kelly,Jet, No,Desert City,KJ,123\n",
      "\n"
     ]
    }
   ],
   "source": [
    "import requests\n",
    "print(requests.get('https://raw.githubusercontent.com/Tanishqa-10/AskPython/main/Sampledata.csv').text)"
   ]
  },
  {
   "cell_type": "markdown",
   "id": "fbe57dfe-ad81-4679-b87b-7ab9ac501368",
   "metadata": {},
   "source": [
    "There are many kinds of data files, but csv is the kind we use today. Next, we learn how to read this into a data structure we can do analysis with."
   ]
  },
  {
   "cell_type": "markdown",
   "id": "80afd9d3-aa2d-4593-93ef-e74700022b51",
   "metadata": {},
   "source": [
    "## pandas\n",
    "\n",
    "[pandas](https://pandas.pydata.org/) a bigger, better kind of array that we will use in our analysis. Instead of an *array*, pandas provides something like it that is called a *Dataframe*. The key way we will use pandas is in reading a data file to create a Dataframe we will use in our analysis.\n",
    "\n",
    "    import pandas as pd\n",
    "    \n",
    "pandas is very powerful, and can even read urls to data files. Here we read the csv file described above to get a dataframe. Note that Jupyter displays a *fancy* representation of the dataframe, making it look like a table. This is a feature of Jupyter that makes it better than using plain Python."
   ]
  },
  {
   "cell_type": "code",
   "execution_count": 61,
   "id": "b3b346a7-25d7-4bf8-87df-3cbc6aa8f5fd",
   "metadata": {},
   "outputs": [
    {
     "data": {
      "text/html": [
       "<div>\n",
       "<style scoped>\n",
       "    .dataframe tbody tr th:only-of-type {\n",
       "        vertical-align: middle;\n",
       "    }\n",
       "\n",
       "    .dataframe tbody tr th {\n",
       "        vertical-align: top;\n",
       "    }\n",
       "\n",
       "    .dataframe thead th {\n",
       "        text-align: right;\n",
       "    }\n",
       "</style>\n",
       "<table border=\"1\" class=\"dataframe\">\n",
       "  <thead>\n",
       "    <tr style=\"text-align: right;\">\n",
       "      <th></th>\n",
       "      <th>Name</th>\n",
       "      <th>Last Name</th>\n",
       "      <th>Member</th>\n",
       "      <th>City</th>\n",
       "      <th>Code</th>\n",
       "      <th>Amount</th>\n",
       "    </tr>\n",
       "  </thead>\n",
       "  <tbody>\n",
       "    <tr>\n",
       "      <th>0</th>\n",
       "      <td>Jim</td>\n",
       "      <td>Doe</td>\n",
       "      <td>No</td>\n",
       "      <td>Ohio</td>\n",
       "      <td>JD</td>\n",
       "      <td>8075</td>\n",
       "    </tr>\n",
       "    <tr>\n",
       "      <th>1</th>\n",
       "      <td>Gill</td>\n",
       "      <td>McGinnis</td>\n",
       "      <td>Yes</td>\n",
       "      <td>Texas</td>\n",
       "      <td>GM</td>\n",
       "      <td>9119</td>\n",
       "    </tr>\n",
       "    <tr>\n",
       "      <th>2</th>\n",
       "      <td>Joe</td>\n",
       "      <td>Repici</td>\n",
       "      <td>Yes</td>\n",
       "      <td>Bostan</td>\n",
       "      <td>JR</td>\n",
       "      <td>8075</td>\n",
       "    </tr>\n",
       "    <tr>\n",
       "      <th>3</th>\n",
       "      <td>Stephen</td>\n",
       "      <td>Tyler</td>\n",
       "      <td>No</td>\n",
       "      <td>LA</td>\n",
       "      <td>ST</td>\n",
       "      <td>91234</td>\n",
       "    </tr>\n",
       "    <tr>\n",
       "      <th>4</th>\n",
       "      <td>Oscar</td>\n",
       "      <td>Blankman</td>\n",
       "      <td>No</td>\n",
       "      <td>NYC</td>\n",
       "      <td>OB</td>\n",
       "      <td>298</td>\n",
       "    </tr>\n",
       "    <tr>\n",
       "      <th>5</th>\n",
       "      <td>Kelly</td>\n",
       "      <td>Jet</td>\n",
       "      <td>No</td>\n",
       "      <td>Desert City</td>\n",
       "      <td>KJ</td>\n",
       "      <td>123</td>\n",
       "    </tr>\n",
       "  </tbody>\n",
       "</table>\n",
       "</div>"
      ],
      "text/plain": [
       "      Name Last Name Member         City Code  Amount\n",
       "0      Jim       Doe     No         Ohio   JD    8075\n",
       "1     Gill  McGinnis    Yes        Texas   GM    9119\n",
       "2      Joe    Repici    Yes       Bostan   JR    8075\n",
       "3  Stephen     Tyler     No           LA   ST   91234\n",
       "4    Oscar  Blankman     No          NYC   OB     298\n",
       "5    Kelly       Jet     No  Desert City   KJ     123"
      ]
     },
     "execution_count": 61,
     "metadata": {},
     "output_type": "execute_result"
    }
   ],
   "source": [
    "import pandas as pd\n",
    "\n",
    "df = pd.read_csv('https://raw.githubusercontent.com/Tanishqa-10/AskPython/main/Sampledata.csv')\n",
    "df"
   ]
  },
  {
   "cell_type": "markdown",
   "id": "ce3fcc08-e333-490c-84d3-e34f3e88fada",
   "metadata": {},
   "source": [
    "The thing that makes Dataframes so useful is we can extract columns by their name."
   ]
  },
  {
   "cell_type": "code",
   "execution_count": 63,
   "id": "034dc103-1ec5-451f-b49a-a09f51e32bf3",
   "metadata": {},
   "outputs": [
    {
     "data": {
      "text/plain": [
       "0     8075\n",
       "1     9119\n",
       "2     8075\n",
       "3    91234\n",
       "4      298\n",
       "5      123\n",
       "Name: Amount, dtype: int64"
      ]
     },
     "execution_count": 63,
     "metadata": {},
     "output_type": "execute_result"
    }
   ],
   "source": [
    "df['Amount']"
   ]
  },
  {
   "cell_type": "markdown",
   "id": "1d86c4f8-417c-4b92-8282-0b26e997125f",
   "metadata": {},
   "source": [
    "We can also do analysis on the columns."
   ]
  },
  {
   "cell_type": "code",
   "execution_count": 66,
   "id": "68b51c2d-cc0d-4fe3-812f-527a14064481",
   "metadata": {},
   "outputs": [
    {
     "data": {
      "text/plain": [
       "(116924, 19487.333333333332)"
      ]
     },
     "execution_count": 66,
     "metadata": {},
     "output_type": "execute_result"
    }
   ],
   "source": [
    "np.sum(df['Amount']), np.mean(df['Amount']),"
   ]
  },
  {
   "cell_type": "markdown",
   "id": "b48ca98e-d49d-433f-9e4a-b8f416213f1b",
   "metadata": {},
   "source": [
    "We can also "
   ]
  },
  {
   "cell_type": "code",
   "execution_count": 70,
   "id": "6c5de405-ed59-4e74-b7e2-c4099c936817",
   "metadata": {},
   "outputs": [
    {
     "data": {
      "image/png": "[encoded data removed]",
      "text/plain": [
       "<Figure size 640x480 with 1 Axes>"
      ]
     },
     "metadata": {},
     "output_type": "display_data"
    }
   ],
   "source": [
    "plt.bar(df['City'], df['Amount'])\n",
    "plt.ylabel('Amount');"
   ]
  },
  {
   "cell_type": "markdown",
   "id": "f08126e2-cc8d-45b9-bcbf-98929e5d2b57",
   "metadata": {},
   "source": [
    "## pycse\n",
    "\n",
    "The last package I want to introduce is [pycse](https://kitchingroup.cheme.cmu.edu/pycse/intro.html). This is a package I wrote to augment scientific computations in Python. The context we will use it here is predominantly for fitting a line to some data."
   ]
  },
  {
   "cell_type": "markdown",
   "id": "4b02f6fe-798c-4c9e-b711-8a47bd7da1b2",
   "metadata": {},
   "source": [
    "Check out this [data file](https://itl.nist.gov/div898/strd/lls/data/LINKS/DATA/Norris.dat). It is a little different than what we saw before. First there are 60 lines of header information that are useful for context, but not helpful for analysis. After that, there are two columns of data that we want to do some analysis on. We know from the header that the data is linear, and we want to fit a line to this data. We can use pandas to read this file too, but we have to tell it to skip 60 rows, to use spaces for separating the data, and we can provide names for the columns.\n",
    "\n",
    "This data is from the calibration of Ozone monitors and contains a column of reference data and measured data."
   ]
  },
  {
   "cell_type": "code",
   "execution_count": 89,
   "id": "56bfb041-2d1e-4a32-83e1-dc8eb1ed1ea3",
   "metadata": {},
   "outputs": [
    {
     "data": {
      "text/html": [
       "<div>\n",
       "<style scoped>\n",
       "    .dataframe tbody tr th:only-of-type {\n",
       "        vertical-align: middle;\n",
       "    }\n",
       "\n",
       "    .dataframe tbody tr th {\n",
       "        vertical-align: top;\n",
       "    }\n",
       "\n",
       "    .dataframe thead th {\n",
       "        text-align: right;\n",
       "    }\n",
       "</style>\n",
       "<table border=\"1\" class=\"dataframe\">\n",
       "  <thead>\n",
       "    <tr style=\"text-align: right;\">\n",
       "      <th></th>\n",
       "      <th>y</th>\n",
       "      <th>x</th>\n",
       "    </tr>\n",
       "  </thead>\n",
       "  <tbody>\n",
       "    <tr>\n",
       "      <th>0</th>\n",
       "      <td>0.1</td>\n",
       "      <td>0.2</td>\n",
       "    </tr>\n",
       "    <tr>\n",
       "      <th>1</th>\n",
       "      <td>338.8</td>\n",
       "      <td>337.4</td>\n",
       "    </tr>\n",
       "    <tr>\n",
       "      <th>2</th>\n",
       "      <td>118.1</td>\n",
       "      <td>118.2</td>\n",
       "    </tr>\n",
       "    <tr>\n",
       "      <th>3</th>\n",
       "      <td>888.0</td>\n",
       "      <td>884.6</td>\n",
       "    </tr>\n",
       "    <tr>\n",
       "      <th>4</th>\n",
       "      <td>9.2</td>\n",
       "      <td>10.1</td>\n",
       "    </tr>\n",
       "    <tr>\n",
       "      <th>5</th>\n",
       "      <td>228.1</td>\n",
       "      <td>226.5</td>\n",
       "    </tr>\n",
       "    <tr>\n",
       "      <th>6</th>\n",
       "      <td>668.5</td>\n",
       "      <td>666.3</td>\n",
       "    </tr>\n",
       "    <tr>\n",
       "      <th>7</th>\n",
       "      <td>998.5</td>\n",
       "      <td>996.3</td>\n",
       "    </tr>\n",
       "    <tr>\n",
       "      <th>8</th>\n",
       "      <td>449.1</td>\n",
       "      <td>448.6</td>\n",
       "    </tr>\n",
       "    <tr>\n",
       "      <th>9</th>\n",
       "      <td>778.9</td>\n",
       "      <td>777.0</td>\n",
       "    </tr>\n",
       "    <tr>\n",
       "      <th>10</th>\n",
       "      <td>559.2</td>\n",
       "      <td>558.2</td>\n",
       "    </tr>\n",
       "    <tr>\n",
       "      <th>11</th>\n",
       "      <td>0.3</td>\n",
       "      <td>0.4</td>\n",
       "    </tr>\n",
       "    <tr>\n",
       "      <th>12</th>\n",
       "      <td>0.1</td>\n",
       "      <td>0.6</td>\n",
       "    </tr>\n",
       "    <tr>\n",
       "      <th>13</th>\n",
       "      <td>778.1</td>\n",
       "      <td>775.5</td>\n",
       "    </tr>\n",
       "    <tr>\n",
       "      <th>14</th>\n",
       "      <td>668.8</td>\n",
       "      <td>666.9</td>\n",
       "    </tr>\n",
       "    <tr>\n",
       "      <th>15</th>\n",
       "      <td>339.3</td>\n",
       "      <td>338.0</td>\n",
       "    </tr>\n",
       "    <tr>\n",
       "      <th>16</th>\n",
       "      <td>448.9</td>\n",
       "      <td>447.5</td>\n",
       "    </tr>\n",
       "    <tr>\n",
       "      <th>17</th>\n",
       "      <td>10.8</td>\n",
       "      <td>11.6</td>\n",
       "    </tr>\n",
       "    <tr>\n",
       "      <th>18</th>\n",
       "      <td>557.7</td>\n",
       "      <td>556.0</td>\n",
       "    </tr>\n",
       "    <tr>\n",
       "      <th>19</th>\n",
       "      <td>228.3</td>\n",
       "      <td>228.1</td>\n",
       "    </tr>\n",
       "    <tr>\n",
       "      <th>20</th>\n",
       "      <td>998.0</td>\n",
       "      <td>995.8</td>\n",
       "    </tr>\n",
       "    <tr>\n",
       "      <th>21</th>\n",
       "      <td>888.8</td>\n",
       "      <td>887.6</td>\n",
       "    </tr>\n",
       "    <tr>\n",
       "      <th>22</th>\n",
       "      <td>119.6</td>\n",
       "      <td>120.2</td>\n",
       "    </tr>\n",
       "    <tr>\n",
       "      <th>23</th>\n",
       "      <td>0.3</td>\n",
       "      <td>0.3</td>\n",
       "    </tr>\n",
       "    <tr>\n",
       "      <th>24</th>\n",
       "      <td>0.6</td>\n",
       "      <td>0.3</td>\n",
       "    </tr>\n",
       "    <tr>\n",
       "      <th>25</th>\n",
       "      <td>557.6</td>\n",
       "      <td>556.8</td>\n",
       "    </tr>\n",
       "    <tr>\n",
       "      <th>26</th>\n",
       "      <td>339.3</td>\n",
       "      <td>339.1</td>\n",
       "    </tr>\n",
       "    <tr>\n",
       "      <th>27</th>\n",
       "      <td>888.0</td>\n",
       "      <td>887.2</td>\n",
       "    </tr>\n",
       "    <tr>\n",
       "      <th>28</th>\n",
       "      <td>998.5</td>\n",
       "      <td>999.0</td>\n",
       "    </tr>\n",
       "    <tr>\n",
       "      <th>29</th>\n",
       "      <td>778.9</td>\n",
       "      <td>779.0</td>\n",
       "    </tr>\n",
       "    <tr>\n",
       "      <th>30</th>\n",
       "      <td>10.2</td>\n",
       "      <td>11.1</td>\n",
       "    </tr>\n",
       "    <tr>\n",
       "      <th>31</th>\n",
       "      <td>117.6</td>\n",
       "      <td>118.3</td>\n",
       "    </tr>\n",
       "    <tr>\n",
       "      <th>32</th>\n",
       "      <td>228.9</td>\n",
       "      <td>229.2</td>\n",
       "    </tr>\n",
       "    <tr>\n",
       "      <th>33</th>\n",
       "      <td>668.4</td>\n",
       "      <td>669.1</td>\n",
       "    </tr>\n",
       "    <tr>\n",
       "      <th>34</th>\n",
       "      <td>449.2</td>\n",
       "      <td>448.9</td>\n",
       "    </tr>\n",
       "    <tr>\n",
       "      <th>35</th>\n",
       "      <td>0.2</td>\n",
       "      <td>0.5</td>\n",
       "    </tr>\n",
       "  </tbody>\n",
       "</table>\n",
       "</div>"
      ],
      "text/plain": [
       "        y      x\n",
       "0     0.1    0.2\n",
       "1   338.8  337.4\n",
       "2   118.1  118.2\n",
       "3   888.0  884.6\n",
       "4     9.2   10.1\n",
       "5   228.1  226.5\n",
       "6   668.5  666.3\n",
       "7   998.5  996.3\n",
       "8   449.1  448.6\n",
       "9   778.9  777.0\n",
       "10  559.2  558.2\n",
       "11    0.3    0.4\n",
       "12    0.1    0.6\n",
       "13  778.1  775.5\n",
       "14  668.8  666.9\n",
       "15  339.3  338.0\n",
       "16  448.9  447.5\n",
       "17   10.8   11.6\n",
       "18  557.7  556.0\n",
       "19  228.3  228.1\n",
       "20  998.0  995.8\n",
       "21  888.8  887.6\n",
       "22  119.6  120.2\n",
       "23    0.3    0.3\n",
       "24    0.6    0.3\n",
       "25  557.6  556.8\n",
       "26  339.3  339.1\n",
       "27  888.0  887.2\n",
       "28  998.5  999.0\n",
       "29  778.9  779.0\n",
       "30   10.2   11.1\n",
       "31  117.6  118.3\n",
       "32  228.9  229.2\n",
       "33  668.4  669.1\n",
       "34  449.2  448.9\n",
       "35    0.2    0.5"
      ]
     },
     "execution_count": 89,
     "metadata": {},
     "output_type": "execute_result"
    }
   ],
   "source": [
    "df = pd.read_csv('https://itl.nist.gov/div898/strd/lls/data/LINKS/DATA/Norris.dat', skiprows=60, sep ='\\s+', names=['y', 'x'])\n",
    "df"
   ]
  },
  {
   "cell_type": "markdown",
   "id": "a3c435fa-8457-4b0f-b78f-bdac02b6beca",
   "metadata": {},
   "source": [
    "Let's plot our data to see how it lools."
   ]
  },
  {
   "cell_type": "code",
   "execution_count": 90,
   "id": "cfe2fb4d-b353-4d1c-b9f1-b3144811f9a0",
   "metadata": {},
   "outputs": [
    {
     "data": {
      "image/png": "[encoded data removed]",
      "text/plain": [
       "<Figure size 640x480 with 1 Axes>"
      ]
     },
     "metadata": {},
     "output_type": "display_data"
    }
   ],
   "source": [
    "plt.plot(df['x'], df['y'], 'b.');                     "
   ]
  },
  {
   "cell_type": "markdown",
   "id": "0358a008-441b-468d-9ce2-e9d6acaf211e",
   "metadata": {},
   "source": [
    "`pycse` provides a function called `polyfit` to fit polynomials to data. A line is just a polynomial of degree=1. So, we can use `polyfit` to fit a line to (x, y) data. `polyfit` returns the fit to $y = B0 x  + B1$ as $(B0, B1)$. Additionally, it provides a confidence interval on each parameter, and the standard error estimate for each parameter. "
   ]
  },
  {
   "cell_type": "code",
   "execution_count": 99,
   "id": "7c416fdc-446b-4248-8b2b-ee4c32b1d750",
   "metadata": {},
   "outputs": [
    {
     "name": "stdout",
     "output_type": "stream",
     "text": [
      "[ 1.00211682 -0.26232307]\n"
     ]
    }
   ],
   "source": [
    "from pycse import polyfit\n",
    "\n",
    "pars, pint, se = polyfit(df['x'], df['y'], 1)\n",
    "print(pars)"
   ]
  },
  {
   "cell_type": "code",
   "execution_count": 100,
   "id": "81fd8c3f-5694-4358-b769-72e9a50332d4",
   "metadata": {},
   "outputs": [
    {
     "data": {
      "text/plain": [
       "array([0.0004298 , 0.23281823])"
      ]
     },
     "execution_count": 100,
     "metadata": {},
     "output_type": "execute_result"
    }
   ],
   "source": [
    "se # compare these values to the values in the header"
   ]
  },
  {
   "cell_type": "markdown",
   "id": "fb755eec-836b-4019-bd1a-7dc7a2829d96",
   "metadata": {},
   "source": [
    "These are exactly the same as the example data file suggests. Doing exercises like this are an important way to make sure the tools you are using are doing the right things. Note that the parameters are not in the same order as in the data file, but that is because `polyfit` writes the equation in a different order.\n",
    "\n",
    "It is always a good idea to see how the fit looks. We can plot the fit on the data like this. The idea is to make a linspace array over the range of the x-data, and calculate the line from the fitted parameters. "
   ]
  },
  {
   "cell_type": "code",
   "execution_count": 104,
   "id": "2dc1c4b9-e842-4f43-9f02-ece7d636f3be",
   "metadata": {},
   "outputs": [
    {
     "data": {
      "image/png": "[encoded data removed]",
      "text/plain": [
       "<Figure size 640x480 with 1 Axes>"
      ]
     },
     "metadata": {},
     "output_type": "display_data"
    }
   ],
   "source": [
    "plt.plot(df['x'], df['y'], 'b.')\n",
    "\n",
    "x = np.linspace(min(df['x']), max(df['x']))\n",
    "\n",
    "B0, B1 = pars\n",
    "plt.plot(x, B0 * x + B1, 'r-')\n",
    "plt.legend(['data', 'fit']);"
   ]
  },
  {
   "cell_type": "markdown",
   "id": "e2da4cb1-5602-4b43-be8d-00b658e596e6",
   "metadata": {},
   "source": [
    "This fit looks pretty good. For now, we consider this sufficient. "
   ]
  },
  {
   "cell_type": "markdown",
   "id": "27f9b69a-43d6-4848-88e4-ee4ea23d25dd",
   "metadata": {},
   "source": [
    "**Exercise**: Add x and y labels to the plot above."
   ]
  },
  {
   "cell_type": "markdown",
   "id": "99cb66c9-d76b-40ad-8d19-bd5637509cad",
   "metadata": {},
   "source": [
    "# Wrapping up the introduction\n",
    "\n",
    "This concludes the introduction. This covered just enough material to get to the next step in our program, which is data analysis of historical temperature data.\n",
    "\n",
    "The next step in our workshop starts [here](data-science.ipynb)."
   ]
  },
  {
   "cell_type": "markdown",
   "id": "5442f575-355d-4cd6-a35f-7b06008c35f0",
   "metadata": {},
   "source": [
    "# Resources\n",
    "\n",
    "1. [Introduction to Python computations in science and engineering](https://pointbreezepubs.gumroad.com/l/pycse-intro)\n",
    "2. [pycse](https://kitchingroup.cheme.cmu.edu/pycse/intro.html) This exhaustive resource covers Python computing in science and engineering."
   ]
  },
  {
   "cell_type": "markdown",
   "id": "c2bee17c-7625-452f-9721-04fd068d9448",
   "metadata": {},
   "source": [
    "# Tips\n",
    "\n",
    "## Running cells\n",
    "\n",
    "1. C-enter executes the current cell and keeps it selected\n",
    "2. shift-enter executes the current cell and selects the next cell\n",
    "3. alt-enter executes the current cell and inserts a new cell after it.\n",
    "\n",
    "Use the Run menu to run all the cells\n",
    "\n",
    "## Inserting cells\n",
    "\n",
    "You can insert cells above or below the current cell in the following ways:\n",
    "\n",
    "1. With the cell selected, use the icons in the cell on the right to add a cell.\n",
    "2. Type Esc-a to insert above the cell, and Esc-b to insert below the cell.\n",
    "\n",
    "## interrupt or restart the kernel\n",
    "\n",
    "Use the Kernel menu to stop a running cell, or to restart the kernel."
   ]
  },
  {
   "cell_type": "markdown",
   "id": "516513c1-580a-4a03-a4d9-8baad3f37bd1",
   "metadata": {},
   "source": [
    "## Sharing your work with others\n",
    "\n",
    "Not everyone will want to see the notebook in the ipynb form. You can convert your notebook to other forms such as a PDF or HTML. Use the File menu to \"Save and Export Notebook as ...\" to different formats.\n",
    "\n",
    "Note that this does not always work. Exporting requires some external packages to be installed, and sometimes there are elements of the notebook that cannot be exported and that will cause export errors. Some common problems are copy and pasted images, and incorrect math equations. With experience you will learn how to fix these.\n",
    "\n",
    "- PDF converts the notebook to LaTeX, and then converts the LaTeX to PDF. Requires a LaTeX distribution to be installed.\n",
    "- Webpdf convertes the notebook to HTML, then converts the HTML to PDF. Requires pyppeteer and Chromium to be installed.\n",
    "\n",
    "Depending on your Jupyter environment there may be other options to consider as well."
   ]
  }
 ],
 "metadata": {
  "kernelspec": {
   "display_name": "Python 3 (ipykernel)",
   "language": "python",
   "name": "python3"
  },
  "language_info": {
   "codemirror_mode": {
    "name": "ipython",
    "version": 3
   },
   "file_extension": ".py",
   "mimetype": "text/x-python",
   "name": "python",
   "nbconvert_exporter": "python",
   "pygments_lexer": "ipython3",
   "version": "3.9.12"
  }
 },
 "nbformat": 4,
 "nbformat_minor": 5
}
