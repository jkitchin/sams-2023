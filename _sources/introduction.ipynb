{
 "cells": [
  {
   "cell_type": "markdown",
   "id": "57761318-653f-4a27-a8fa-295e8837d335",
   "metadata": {},
   "source": [
    "Welcome to the Jupyter Lab workshop for SAMS 2023!\n",
    "==================================================\n",
    "\n",
    "Today computing is used everywhere. We are going to introduce you to Jupyter Lab, which is a computing environment that you can use to write Python code to solve problems, do analysis, make figures, and more."
   ]
  }
 ],
 "metadata": {
  "kernelspec": {
   "display_name": "Python 3 (ipykernel)",
   "language": "python",
   "name": "python3"
  },
  "language_info": {
   "codemirror_mode": {
    "name": "ipython",
    "version": 3
   },
   "file_extension": ".py",
   "mimetype": "text/x-python",
   "name": "python",
   "nbconvert_exporter": "python",
   "pygments_lexer": "ipython3",
   "version": "3.10.11"
  }
 },
 "nbformat": 4,
 "nbformat_minor": 5
}
