{
 "cells": [
  {
   "cell_type": "markdown",
   "id": "953617d4-7f8c-445f-a404-e9af5eca57c3",
   "metadata": {},
   "source": [
    "Getting started\n",
    "===============\n",
    "\n",
    "To get started you need to open your account at amdatascience.com. The easiest way to do this is to visit this link:\n",
    "\n",
    "https://lab.amdatascience.com/hub/user-redirect/git-pull?repo=https%3A//github.com/jkitchin/sams-2023&urlpath=lab/tree/sams-2023/sams/introduction.ipynb&branch=main\n",
    "\n",
    "You will first see this login screen:\n",
    "\n",
    "![img](login.png)\n",
    "\n",
    "You should select \"Continue with Google\", then select your andrew email account to login. If necessary, you should add an account with your andrew email address.\n",
    "\n",
    "After this you will see a Server Options page. Select the top option, then scroll to the bottom and click start.\n",
    "\n",
    "![img](env.png)\n",
    "\n",
    "![img](start.png)\n",
    "\n",
    "This will start the server and launch Jupyter lab. If you see something like this, you are all set for the workshop!\n",
    "\n",
    "![img](success.png)\n",
    "\n",
    "You can simply hit the blue Select button to get started. You don't need to do anything else before class.\n",
    "\n",
    "See you tomorrow!\n",
    "\n",
    "See this video for a step by step guide:  https://youtube.com/live/dp0ubCdqs0g?feature=share"
   ]
  }
 ],
 "metadata": {
  "kernelspec": {
   "display_name": "Python 3 (ipykernel)",
   "language": "python",
   "name": "python3"
  },
  "language_info": {
   "codemirror_mode": {
    "name": "ipython",
    "version": 3
   },
   "file_extension": ".py",
   "mimetype": "text/x-python",
   "name": "python",
   "nbconvert_exporter": "python",
   "pygments_lexer": "ipython3",
   "version": "3.10.11"
  }
 },
 "nbformat": 4,
 "nbformat_minor": 5
}
