{
 "cells": [
  {
   "cell_type": "markdown",
   "id": "57761318-653f-4a27-a8fa-295e8837d335",
   "metadata": {},
   "source": [
    "Welcome to the Jupyter Lab workshop for SAMS 2023!\n",
    "==================================================\n",
    "\n",
    "Today computing is used everywhere. We are going to introduce you to Jupyter Lab, which is a computing environment that you can use to write Python code to solve problems, do analysis, make figures, and more."
   ]
  },
  {
   "cell_type": "markdown",
   "id": "b96a9e71-3953-4f55-bc5e-2d9c27fe0cac",
   "metadata": {},
   "source": [
    "# Tour of the browser interface\n",
    "\n",
    "The Jupyter lab browser interface has a few main parts. The main window this cell is in is where most computations are done. This window is made of interactive cells; some are text based, and some are code based. You can click on a cell to make it \"active\" so you can interact with it. The active cell will show a blue bar on the left. You can also use the up/down arrows to change what cell is selected. There may be tabs at the top, where you can select different files, or other open windows.\n",
    "\n",
    "At the top of the frame are menus. You can use these to open files, or perform other tasks on the active tab.\n",
    "\n",
    "On the left of the window are buttons to open a file explorer, see what is running, or see a Table of contents."
   ]
  },
  {
   "cell_type": "code",
   "execution_count": null,
   "id": "e1c93fe7-7305-4f9b-a125-1ec23de2ee4c",
   "metadata": {},
   "outputs": [],
   "source": []
  }
 ],
 "metadata": {
  "kernelspec": {
   "display_name": "Python 3 (ipykernel)",
   "language": "python",
   "name": "python3"
  },
  "language_info": {
   "codemirror_mode": {
    "name": "ipython",
    "version": 3
   },
   "file_extension": ".py",
   "mimetype": "text/x-python",
   "name": "python",
   "nbconvert_exporter": "python",
   "pygments_lexer": "ipython3",
   "version": "3.10.11"
  }
 },
 "nbformat": 4,
 "nbformat_minor": 5
}
