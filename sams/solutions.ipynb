{
 "cells": [
  {
   "cell_type": "markdown",
   "id": "8634f4e6-57b1-48ff-97f9-a3da98d28642",
   "metadata": {},
   "source": [
    "# Hello SAMS"
   ]
  },
  {
   "cell_type": "code",
   "execution_count": 1,
   "id": "5d1ea37c-4191-4ccc-99d9-e0353d65a32e",
   "metadata": {},
   "outputs": [
    {
     "name": "stdout",
     "output_type": "stream",
     "text": [
      "Hello SAMS!\n"
     ]
    }
   ],
   "source": [
    "print('Hello SAMS!')"
   ]
  },
  {
   "cell_type": "markdown",
   "id": "9bfbb8ce-b45e-44d2-ae22-da1dca31f745",
   "metadata": {},
   "source": [
    "# Quadratic solution"
   ]
  },
  {
   "cell_type": "code",
   "execution_count": 2,
   "id": "44756350-913a-4c0a-9b06-29f5eed37177",
   "metadata": {},
   "outputs": [
    {
     "data": {
      "text/plain": [
       "(3.0, 2.0)"
      ]
     },
     "execution_count": 2,
     "metadata": {},
     "output_type": "execute_result"
    }
   ],
   "source": [
    "a = 1\n",
    "b = -5\n",
    "c = 6\n",
    "\n",
    "(-b + (b**2 - 4 * a * c)**0.5) / (2 * a), (-b - (b**2 - 4 * a * c)**0.5) / (2 * a)"
   ]
  },
  {
   "cell_type": "code",
   "execution_count": null,
   "id": "541b0e44-23f9-48e1-aa69-2f2d0cc2b7f8",
   "metadata": {},
   "outputs": [],
   "source": []
  }
 ],
 "metadata": {
  "kernelspec": {
   "display_name": "Python 3 (ipykernel)",
   "language": "python",
   "name": "python3"
  },
  "language_info": {
   "codemirror_mode": {
    "name": "ipython",
    "version": 3
   },
   "file_extension": ".py",
   "mimetype": "text/x-python",
   "name": "python",
   "nbconvert_exporter": "python",
   "pygments_lexer": "ipython3",
   "version": "3.9.13"
  }
 },
 "nbformat": 4,
 "nbformat_minor": 5
}
