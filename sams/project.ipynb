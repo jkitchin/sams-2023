{
 "cells": [
  {
   "cell_type": "markdown",
   "id": "0a25200a-da7a-42cf-b77c-19cbea98e785",
   "metadata": {},
   "source": [
    "Ideas for an open-ended project\n",
    "===============================\n",
    "\n",
    "The following are the sources for different datasets included here.\n",
    "\n",
    "# Global Temperature Data for each US state from 1901 to 2020. \n",
    "This is the data set we worked on. The dataset can be downloaded from https://docs.google.com/uc?export=download&id=1dO6a3Qv5SfLVK0lQVP3BXk1J-WHfoMiO.\n",
    "\n",
    "Source: https://climateknowledgeportal.worldbank.org/\n",
    "\n",
    "This data came from the World Bank website where you must make an account to access the data. The data set contains complete average annual temperature data for all the US states from 1901 to 2020.\n",
    "\n",
    "Ideas for uses of this dataset include seeing how temperatures change from state to state and specifically from states where you might expect different types of climates or weather, looking at areas of spikes up or down to identify if they correspond with global events, or even looking at the temperature variation that might happen within a state (how distributed is the data from year to year or is it consistent). Comparing this dataset to the one below would also be interesting to see whether they are consistent.\n",
    "\n",
    "# Global Temperature Data for countries, cities, states, and globally from the 1700s to 2000s. \n",
    "The following data files are available:\n",
    "\n",
    "GlobalTemperatures.csv https://drive.google.com/file/d/1ov-M3397worf8BzD4eHRZ6ECbUvAQTgN/view?usp=drive_link \n",
    "\n",
    "or GlobalLandTemperaturesBy*.csv:\n",
    "\n",
    "\n",
    "  - State  https://docs.google.com/uc?export=download&id=1WNi8Y_Qkz413LbnfptsQupmdyOGEb3kL\n",
    "  - City   https://docs.google.com/uc?export=download&id=1C9bvQ-hkiE8WsvbJJ6B38qVFIwg94fVH\n",
    "  - Country https://docs.google.com/uc?export=download&id=1zZUz_GLujatsQ0k2cbjdsKbmObOmXBn6\n",
    "  - Major City  https://docs.google.com/uc?export=download&id=1EBJ9X8q3g9ajyaoxxRb-1UEIZWUf4o09\n",
    "\n",
    "\n",
    "Source: https://www.kaggle.com/datasets/berkeleyearth/climate-change-earth-surface-temperature-data?ref=hackernoon.com\n",
    "\n",
    "Ideas for how to use this dataset includes looking at different temperature profiles of countries, hemispheres, or cities of different sizes (Philadelphia vs Indiana, PA). It would be interesting to see if there are trends based on time of year (ex. How do the January temperatures compare), or look at how the minimum or maximum temperatures change from year to year in a particular location.\n",
    "\n",
    "# Global CO<sub>2</sub> levels from year 0 to 2014. \n",
    "\n",
    "Can be found at the following file name: mole_fraction_of_carbon_dioxide_in_air_input4MIPs_GHGConcentrations_CMIP_UoM-CMIP-1-1-0_gr3-GMNHSH_000001-201412.csv\n",
    "\n",
    "Data: https://docs.google.com/uc?export=download&id=1dMsI2hExg0VGYZkWQl4jK3U1w0c0b7xQ.\n",
    "\n",
    "https://www.co2.earth/historical-co2-datasets\n",
    "\n",
    "This is the IAC Switzerland global CO<sub>2</sub> monthly csv file. This data will likely contain missing numbers for some years and months.\n",
    "\n",
    "Ideas for how to use this include fitting a model to the data to see how the CO<sub>2</sub> levels have changed. There may be different behaviors before and after the 1900s. It may be interesting to see if there are spikes in the data and if so where do they happen. Are there months or years where these spike are more common? Are these associated with global events?"
   ]
  },
  {
   "cell_type": "code",
   "execution_count": 5,
   "id": "c51d82e7-5662-4390-82a0-b8b0070f884f",
   "metadata": {},
   "outputs": [],
   "source": [
    "# You can load the data files like this from the docs.google.com links.\n",
    "import pandas as pd\n",
    "df = pd.read_csv('https://docs.google.com/uc?export=download&id=1dMsI2hExg0VGYZkWQl4jK3U1w0c0b7xQ')"
   ]
  }
 ],
 "metadata": {
  "kernelspec": {
   "display_name": "Python 3 (ipykernel)",
   "language": "python",
   "name": "python3"
  },
  "language_info": {
   "codemirror_mode": {
    "name": "ipython",
    "version": 3
   },
   "file_extension": ".py",
   "mimetype": "text/x-python",
   "name": "python",
   "nbconvert_exporter": "python",
   "pygments_lexer": "ipython3",
   "version": "3.9.12"
  }
 },
 "nbformat": 4,
 "nbformat_minor": 5
}
