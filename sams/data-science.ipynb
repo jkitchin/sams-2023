{
 "cells": [
  {
   "cell_type": "markdown",
   "metadata": {
    "id": "TeYzgA1ZtASx"
   },
   "source": [
    "# Analysis of Temperature Data in the United States\n",
    "\n",
    "The data set we consider here came from the [World Bank website](https://climateknowledgeportal.worldbank.org/) where you must make an account to access the data. The data set contains complete average annual temperature data for all the US states from 1901 to 2020.\n",
    "\n",
    "You can see the data in a [Google sheet](https://docs.google.com/spreadsheets/d/1WoAziMknuEwR0NsfJoQlQ7_KvLwW4pmoZuu8QAA-WXQ/edit#gid=645091525). Here you can see there is one extraneous row we have to skip, and then there are columns for the whole US, and each state. The first column is unlabeled, so we have to rename it when we make the dataframe. We don't want to see every row, so we only show the \"head\"."
   ]
  },
  {
   "cell_type": "code",
   "execution_count": 6,
   "metadata": {
    "executionInfo": {
     "elapsed": 741,
     "status": "ok",
     "timestamp": 1687550446789,
     "user": {
      "displayName": "Maya Bhat",
      "userId": "03735072487575824490"
     },
     "user_tz": 240
    },
    "id": "gVcsbPqetEtL"
   },
   "outputs": [],
   "source": [
    "import pandas as pd\n",
    "import numpy as np\n",
    "import matplotlib.pyplot as plt"
   ]
  },
  {
   "cell_type": "markdown",
   "metadata": {},
   "source": [
    "## Read in the data file"
   ]
  },
  {
   "cell_type": "code",
   "execution_count": 7,
   "metadata": {
    "colab": {
     "base_uri": "https://localhost:8080/",
     "height": 317
    },
    "executionInfo": {
     "elapsed": 508,
     "status": "ok",
     "timestamp": 1687550457540,
     "user": {
      "displayName": "Maya Bhat",
      "userId": "03735072487575824490"
     },
     "user_tz": 240
    },
    "id": "yDGMQhv1tIKO",
    "outputId": "c19f3c44-6479-46d1-aba0-113cb0c9a5b0"
   },
   "outputs": [
    {
     "data": {
      "text/html": [
       "<div>\n",
       "<style scoped>\n",
       "    .dataframe tbody tr th:only-of-type {\n",
       "        vertical-align: middle;\n",
       "    }\n",
       "\n",
       "    .dataframe tbody tr th {\n",
       "        vertical-align: top;\n",
       "    }\n",
       "\n",
       "    .dataframe thead th {\n",
       "        text-align: right;\n",
       "    }\n",
       "</style>\n",
       "<table border=\"1\" class=\"dataframe\">\n",
       "  <thead>\n",
       "    <tr style=\"text-align: right;\">\n",
       "      <th></th>\n",
       "      <th>year</th>\n",
       "      <th>United States</th>\n",
       "      <th>Alabama</th>\n",
       "      <th>Alaska</th>\n",
       "      <th>Arizona</th>\n",
       "      <th>Arkansas</th>\n",
       "      <th>California</th>\n",
       "      <th>Colorado</th>\n",
       "      <th>Connecticut</th>\n",
       "      <th>Delaware</th>\n",
       "      <th>...</th>\n",
       "      <th>South Dakota</th>\n",
       "      <th>Tennessee</th>\n",
       "      <th>Texas</th>\n",
       "      <th>Utah</th>\n",
       "      <th>Vermont</th>\n",
       "      <th>Virginia</th>\n",
       "      <th>Washington</th>\n",
       "      <th>West Virginia</th>\n",
       "      <th>Wisconsin</th>\n",
       "      <th>Wyoming</th>\n",
       "    </tr>\n",
       "  </thead>\n",
       "  <tbody>\n",
       "    <tr>\n",
       "      <th>0</th>\n",
       "      <td>1901</td>\n",
       "      <td>8.59</td>\n",
       "      <td>16.46</td>\n",
       "      <td>-5.00</td>\n",
       "      <td>14.80</td>\n",
       "      <td>16.04</td>\n",
       "      <td>13.75</td>\n",
       "      <td>6.85</td>\n",
       "      <td>8.14</td>\n",
       "      <td>12.03</td>\n",
       "      <td>...</td>\n",
       "      <td>7.82</td>\n",
       "      <td>13.59</td>\n",
       "      <td>18.62</td>\n",
       "      <td>8.67</td>\n",
       "      <td>5.26</td>\n",
       "      <td>12.14</td>\n",
       "      <td>7.39</td>\n",
       "      <td>10.26</td>\n",
       "      <td>6.18</td>\n",
       "      <td>5.82</td>\n",
       "    </tr>\n",
       "    <tr>\n",
       "      <th>1</th>\n",
       "      <td>1902</td>\n",
       "      <td>8.39</td>\n",
       "      <td>17.65</td>\n",
       "      <td>-5.40</td>\n",
       "      <td>14.31</td>\n",
       "      <td>15.87</td>\n",
       "      <td>13.17</td>\n",
       "      <td>6.53</td>\n",
       "      <td>8.34</td>\n",
       "      <td>12.54</td>\n",
       "      <td>...</td>\n",
       "      <td>6.65</td>\n",
       "      <td>14.43</td>\n",
       "      <td>18.89</td>\n",
       "      <td>8.20</td>\n",
       "      <td>5.19</td>\n",
       "      <td>12.75</td>\n",
       "      <td>7.02</td>\n",
       "      <td>10.84</td>\n",
       "      <td>6.30</td>\n",
       "      <td>5.19</td>\n",
       "    </tr>\n",
       "    <tr>\n",
       "      <th>2</th>\n",
       "      <td>1903</td>\n",
       "      <td>7.95</td>\n",
       "      <td>16.92</td>\n",
       "      <td>-5.36</td>\n",
       "      <td>14.16</td>\n",
       "      <td>15.25</td>\n",
       "      <td>13.31</td>\n",
       "      <td>5.69</td>\n",
       "      <td>8.33</td>\n",
       "      <td>12.27</td>\n",
       "      <td>...</td>\n",
       "      <td>6.22</td>\n",
       "      <td>13.92</td>\n",
       "      <td>17.44</td>\n",
       "      <td>7.37</td>\n",
       "      <td>5.30</td>\n",
       "      <td>12.43</td>\n",
       "      <td>6.91</td>\n",
       "      <td>10.75</td>\n",
       "      <td>5.41</td>\n",
       "      <td>4.35</td>\n",
       "    </tr>\n",
       "    <tr>\n",
       "      <th>3</th>\n",
       "      <td>1904</td>\n",
       "      <td>8.09</td>\n",
       "      <td>17.33</td>\n",
       "      <td>-5.77</td>\n",
       "      <td>14.89</td>\n",
       "      <td>15.73</td>\n",
       "      <td>13.86</td>\n",
       "      <td>6.64</td>\n",
       "      <td>6.79</td>\n",
       "      <td>10.88</td>\n",
       "      <td>...</td>\n",
       "      <td>6.37</td>\n",
       "      <td>13.84</td>\n",
       "      <td>18.54</td>\n",
       "      <td>8.36</td>\n",
       "      <td>3.54</td>\n",
       "      <td>11.56</td>\n",
       "      <td>7.77</td>\n",
       "      <td>9.99</td>\n",
       "      <td>4.59</td>\n",
       "      <td>5.52</td>\n",
       "    </tr>\n",
       "    <tr>\n",
       "      <th>4</th>\n",
       "      <td>1905</td>\n",
       "      <td>8.40</td>\n",
       "      <td>17.24</td>\n",
       "      <td>-3.70</td>\n",
       "      <td>14.14</td>\n",
       "      <td>15.43</td>\n",
       "      <td>13.53</td>\n",
       "      <td>5.96</td>\n",
       "      <td>7.89</td>\n",
       "      <td>12.05</td>\n",
       "      <td>...</td>\n",
       "      <td>6.44</td>\n",
       "      <td>14.13</td>\n",
       "      <td>17.72</td>\n",
       "      <td>7.91</td>\n",
       "      <td>4.65</td>\n",
       "      <td>12.39</td>\n",
       "      <td>7.46</td>\n",
       "      <td>10.55</td>\n",
       "      <td>5.54</td>\n",
       "      <td>4.77</td>\n",
       "    </tr>\n",
       "  </tbody>\n",
       "</table>\n",
       "<p>5 rows × 53 columns</p>\n",
       "</div>"
      ],
      "text/plain": [
       "   year  United States  Alabama  Alaska  Arizona  Arkansas  California  \\\n",
       "0  1901           8.59    16.46   -5.00    14.80     16.04       13.75   \n",
       "1  1902           8.39    17.65   -5.40    14.31     15.87       13.17   \n",
       "2  1903           7.95    16.92   -5.36    14.16     15.25       13.31   \n",
       "3  1904           8.09    17.33   -5.77    14.89     15.73       13.86   \n",
       "4  1905           8.40    17.24   -3.70    14.14     15.43       13.53   \n",
       "\n",
       "   Colorado  Connecticut  Delaware  ...  South Dakota  Tennessee  Texas  Utah  \\\n",
       "0      6.85         8.14     12.03  ...          7.82      13.59  18.62  8.67   \n",
       "1      6.53         8.34     12.54  ...          6.65      14.43  18.89  8.20   \n",
       "2      5.69         8.33     12.27  ...          6.22      13.92  17.44  7.37   \n",
       "3      6.64         6.79     10.88  ...          6.37      13.84  18.54  8.36   \n",
       "4      5.96         7.89     12.05  ...          6.44      14.13  17.72  7.91   \n",
       "\n",
       "   Vermont  Virginia  Washington  West Virginia  Wisconsin  Wyoming  \n",
       "0     5.26     12.14        7.39          10.26       6.18     5.82  \n",
       "1     5.19     12.75        7.02          10.84       6.30     5.19  \n",
       "2     5.30     12.43        6.91          10.75       5.41     4.35  \n",
       "3     3.54     11.56        7.77           9.99       4.59     5.52  \n",
       "4     4.65     12.39        7.46          10.55       5.54     4.77  \n",
       "\n",
       "[5 rows x 53 columns]"
      ]
     },
     "execution_count": 7,
     "metadata": {},
     "output_type": "execute_result"
    }
   ],
   "source": [
    "df = pd.read_csv('https://docs.google.com/uc?export=download&id=1dO6a3Qv5SfLVK0lQVP3BXk1J-WHfoMiO', skiprows=1)\n",
    "df.rename(columns={'Unnamed: 0': 'year'}, inplace=True)\n",
    "df.head()"
   ]
  },
  {
   "cell_type": "markdown",
   "metadata": {
    "id": "aRPrj0XZuCQ9"
   },
   "source": [
    "Now that we have our data set loaded, maybe we want to first see how the temperature is changing from year to year on the entire US for the last 100 years. This temperature is averaged over the whole US and over the whole year. We use a scatter plot so there are no lines connecting the points."
   ]
  },
  {
   "cell_type": "code",
   "execution_count": 8,
   "metadata": {
    "colab": {
     "base_uri": "https://localhost:8080/",
     "height": 466
    },
    "executionInfo": {
     "elapsed": 387,
     "status": "ok",
     "timestamp": 1687550457923,
     "user": {
      "displayName": "Maya Bhat",
      "userId": "03735072487575824490"
     },
     "user_tz": 240
    },
    "id": "hclfsX68tKoB",
    "outputId": "bcb9844d-b99a-436d-c395-6e11a67ad566"
   },
   "outputs": [
    {
     "data": {
      "image/png": "[encoded data removed]",
      "text/plain": [
       "<Figure size 640x480 with 1 Axes>"
      ]
     },
     "metadata": {},
     "output_type": "display_data"
    }
   ],
   "source": [
    "plt.scatter(df['year'], df['United States'])\n",
    "plt.xlabel('Year')\n",
    "plt.ylabel('Temperature (C)');"
   ]
  },
  {
   "cell_type": "markdown",
   "metadata": {
    "id": "J2Pp84u0uaFT"
   },
   "source": [
    "There is clearly an upwards trend in average temperature, but additionally, we know the narrative changed from global warming to climate change indicating that it is not only warming that is occuring. The fact that there may be more extreme weather patterns may be understating the warming that could be more severe warming or cooling in different parts of the country.\n",
    "\n",
    "This analysis is *aggregated*. We can *disaggregate* it by looking at individual states. Let's look at New York, Washington, Arizona, Kansas, and Georgia. These are the 4 corners of the US with Kansas in the middle."
   ]
  },
  {
   "cell_type": "code",
   "execution_count": 9,
   "metadata": {
    "colab": {
     "base_uri": "https://localhost:8080/",
     "height": 469
    },
    "executionInfo": {
     "elapsed": 615,
     "status": "ok",
     "timestamp": 1687550458532,
     "user": {
      "displayName": "Maya Bhat",
      "userId": "03735072487575824490"
     },
     "user_tz": 240
    },
    "id": "xcFIbw9wuZxe",
    "outputId": "01dd3ce4-6f4c-4af7-eb11-e6f6d614f798"
   },
   "outputs": [
    {
     "data": {
      "image/png": "[encoded data removed]",
      "text/plain": [
       "<Figure size 640x480 with 1 Axes>"
      ]
     },
     "metadata": {},
     "output_type": "display_data"
    }
   ],
   "source": [
    "ny = df['New York']\n",
    "wa = df['Washington']\n",
    "ar = df['Arizona']\n",
    "ka = df['Kansas']\n",
    "ga = df['Georgia']\n",
    "\n",
    "plt.scatter(df.year, ny)\n",
    "plt.scatter(df.year, wa)\n",
    "plt.scatter(df.year, ar)\n",
    "plt.scatter(df.year, ka)\n",
    "plt.scatter(df.year, ga)\n",
    "plt.ylim(0, 25)\n",
    "plt.xlim(1900, 2023 )\n",
    "plt.title('Average Temperatures 5 States')\n",
    "plt.legend(['NY', 'WA', 'AR', 'KA', 'GA'],  ncol=2, loc='upper right');"
   ]
  },
  {
   "cell_type": "markdown",
   "metadata": {},
   "source": [
    "It is more evident from this that some states are generally warmer than others. It isn't too surprising that New York is consistently colder than Georgia. But, these trends look smoother than the national data. It seems like they might be trending upwards. We can be more quantitative than that. To do that, we will fit a line to each one, and see if the slope is positive."
   ]
  },
  {
   "cell_type": "markdown",
   "metadata": {},
   "source": [
    "**Exercise** Do this for the state you are from."
   ]
  },
  {
   "cell_type": "markdown",
   "metadata": {
    "id": "nfpgDtmIzIAt"
   },
   "source": [
    "What if we want to fit a linear line to one of these scatter plots. We return to polyfit."
   ]
  },
  {
   "cell_type": "code",
   "execution_count": 10,
   "metadata": {
    "colab": {
     "base_uri": "https://localhost:8080/",
     "height": 489
    },
    "executionInfo": {
     "elapsed": 2042,
     "status": "ok",
     "timestamp": 1687550460571,
     "user": {
      "displayName": "Maya Bhat",
      "userId": "03735072487575824490"
     },
     "user_tz": 240
    },
    "id": "yCyHbcuyuUB6",
    "outputId": "e70742ce-f575-4b3b-d8c0-3a18f43b45db"
   },
   "outputs": [
    {
     "name": "stdout",
     "output_type": "stream",
     "text": [
      "[[ 8.86763323e-03  1.58863297e-02]\n",
      " [-2.39031923e+01 -1.01373455e+01]]\n"
     ]
    }
   ],
   "source": [
    "from pycse import polyfit\n",
    "\n",
    "p, pint, se = polyfit(df['year'], ny, 1)\n",
    "print(pint)"
   ]
  },
  {
   "cell_type": "markdown",
   "metadata": {},
   "source": [
    "This tells us the slope (the first parameter) falls in the range of say 9e-3 to 2e-2. That is small, but positive, and does not include 0, so it is significant. We can see the fit next."
   ]
  },
  {
   "cell_type": "code",
   "execution_count": 11,
   "metadata": {},
   "outputs": [
    {
     "data": {
      "image/png": "[encoded data removed]",
      "text/plain": [
       "<Figure size 640x480 with 1 Axes>"
      ]
     },
     "metadata": {},
     "output_type": "display_data"
    }
   ],
   "source": [
    "plt.scatter(df.year, ny)\n",
    "plt.plot(df.year, np.polyval(p, df.year), 'r-')\n",
    "\n",
    "plt.xlabel('Year')\n",
    "plt.ylabel('Temperature (C)')\n",
    "plt.legend(['data', 'fit'])\n",
    "plt.ylim(0, 15)\n",
    "plt.title('Average Temperature Change NY');"
   ]
  },
  {
   "cell_type": "markdown",
   "metadata": {},
   "source": [
    "Now for another one."
   ]
  },
  {
   "cell_type": "code",
   "execution_count": 12,
   "metadata": {
    "colab": {
     "base_uri": "https://localhost:8080/",
     "height": 489
    },
    "executionInfo": {
     "elapsed": 552,
     "status": "ok",
     "timestamp": 1687550461120,
     "user": {
      "displayName": "Maya Bhat",
      "userId": "03735072487575824490"
     },
     "user_tz": 240
    },
    "id": "nm_v6MpgzbY4",
    "outputId": "9582f150-6bf3-4ef7-8fb6-6dac55365724"
   },
   "outputs": [
    {
     "name": "stdout",
     "output_type": "stream",
     "text": [
      "[[-1.56792304e-03  4.59772930e-03]\n",
      " [ 8.88496007e+00  2.09777221e+01]]\n"
     ]
    },
    {
     "data": {
      "image/png": "[encoded data removed]",
      "text/plain": [
       "<Figure size 640x480 with 1 Axes>"
      ]
     },
     "metadata": {},
     "output_type": "display_data"
    }
   ],
   "source": [
    "p, pint, se = polyfit(df.year, ga, 1)\n",
    "\n",
    "plt.scatter(df.year, ga)\n",
    "plt.plot(df.year, np.polyval(p, df.year), 'r-')\n",
    "plt.legend(['data', 'fit'])\n",
    "plt.xlabel('Year')\n",
    "plt.ylabel('Temperature (C)')\n",
    "plt.ylim(0, 21)\n",
    "plt.title('Average Temperature GA')\n",
    "print(pint)"
   ]
  },
  {
   "cell_type": "markdown",
   "metadata": {},
   "source": [
    "Note here the confidence interval on the slope includes 0. That means we can not say with confidence that the temperature in Ga has risen over the last century; or more precisely, that it has risen linearly. Temperature is just one dimension of weather though, and this doesn't mean the climate there hasn't changed. There could be changes in precipitation, or storms, for example."
   ]
  },
  {
   "cell_type": "markdown",
   "metadata": {},
   "source": [
    "**Exercise** Do this analysis for your state."
   ]
  },
  {
   "cell_type": "code",
   "execution_count": null,
   "metadata": {},
   "outputs": [],
   "source": []
  },
  {
   "cell_type": "markdown",
   "metadata": {},
   "source": [
    "## Advanced example\n",
    "\n",
    "One of the values of programming is automating the analysis. Here we loop through each column and fit a line to each dataset. We fit a line and then print the slope for each one. I use some tools we haven't talked about, including:\n",
    "\n",
    "1. an iterator on the datafram that returns a name and column for each column in the dataframe\n",
    "2. a loop over each one of those\n",
    "3. a formatted string that makes a nice display.\n",
    "\n",
    "Eventually, you will learn more about Python and be able to do things like this too."
   ]
  },
  {
   "cell_type": "code",
   "execution_count": 13,
   "metadata": {},
   "outputs": [
    {
     "name": "stdout",
     "output_type": "stream",
     "text": [
      "United States             9.86e-03\n",
      "Alabama                   9.45e-04\n",
      "Alaska                    1.65e-02\n",
      "Arizona                   1.48e-02\n",
      "Arkansas                  2.40e-03\n",
      "California                1.15e-02\n",
      "Colorado                  9.60e-03\n",
      "Connecticut               1.86e-02\n",
      "Delaware                  1.09e-02\n",
      "District of Columbia      1.05e-02\n",
      "Florida                   7.20e-03\n",
      "Georgia                   1.51e-03\n",
      "Hawaii                    1.81e-02\n",
      "Idaho                     8.59e-03\n",
      "Illinois                  5.83e-03\n",
      "Indiana                   6.60e-03\n",
      "Iowa                      6.75e-03\n",
      "Kansas                    8.70e-03\n",
      "Kentucky                  3.75e-03\n",
      "Louisiana                 3.71e-03\n",
      "Maine                     1.43e-02\n",
      "Maryland                  1.03e-02\n",
      "Massachusetts             1.92e-02\n",
      "Michigan                  1.12e-02\n",
      "Minnesota                 1.33e-02\n",
      "Mississippi               1.20e-03\n",
      "Missouri                  4.72e-03\n",
      "Montana                   1.08e-02\n",
      "Nebraska                  8.29e-03\n",
      "Nevada                    1.15e-02\n",
      "New Hampshire             1.60e-02\n",
      "New Jersey                1.56e-02\n",
      "New Mexico                1.13e-02\n",
      "New York                  1.24e-02\n",
      "North Carolina            6.03e-03\n",
      "North Dakota              1.36e-02\n",
      "Ohio                      6.36e-03\n",
      "Oklahoma                  5.22e-03\n",
      "Oregon                    8.97e-03\n",
      "Pennsylvania              9.33e-03\n",
      "Rhode Island              2.09e-02\n",
      "South Carolina            4.16e-03\n",
      "South Dakota              1.05e-02\n",
      "Tennessee                 2.33e-03\n",
      "Texas                     4.91e-03\n",
      "Utah                      1.04e-02\n",
      "Vermont                   1.55e-02\n",
      "Virginia                  7.47e-03\n",
      "Washington                9.45e-03\n",
      "West Virginia             6.14e-03\n",
      "Wisconsin                 1.07e-02\n",
      "Wyoming                   9.08e-03\n"
     ]
    }
   ],
   "source": [
    "for (cname, cdata) in df.items():\n",
    "    if cname != 'year':\n",
    "        p, pint, se = polyfit(df['year'], cdata, 1)\n",
    "        print(f'{cname:25s} {p[0]:1.2e}')    "
   ]
  },
  {
   "cell_type": "markdown",
   "metadata": {
    "id": "55QpAFLY7-rx"
   },
   "source": [
    "# Looking at a longer time range\n",
    "\n",
    "What if we wanted to look at a longer time range for temperature data? We need to open up another dataset. The next data set can be found [here](https://docs.google.com/spreadsheets/d/1JwHWdShploUfGcF7NtdRB_0XU8sChSvlRYwP-RdlU_c/edit#gid=481818530).\n",
    "\n",
    "This dataset has date, temperature, uncertainty, state and country. We do something a little fancy here and tell pandas to read the date into a special date structure with the `parse_dates` option."
   ]
  },
  {
   "cell_type": "code",
   "execution_count": 14,
   "metadata": {
    "colab": {
     "base_uri": "https://localhost:8080/",
     "height": 206
    },
    "executionInfo": {
     "elapsed": 3827,
     "status": "ok",
     "timestamp": 1687550464942,
     "user": {
      "displayName": "Maya Bhat",
      "userId": "03735072487575824490"
     },
     "user_tz": 240
    },
    "id": "MPXwGpI51Wmv",
    "outputId": "9518cb7d-0709-412b-be9a-1bc53b14e13c"
   },
   "outputs": [
    {
     "data": {
      "text/html": [
       "<div>\n",
       "<style scoped>\n",
       "    .dataframe tbody tr th:only-of-type {\n",
       "        vertical-align: middle;\n",
       "    }\n",
       "\n",
       "    .dataframe tbody tr th {\n",
       "        vertical-align: top;\n",
       "    }\n",
       "\n",
       "    .dataframe thead th {\n",
       "        text-align: right;\n",
       "    }\n",
       "</style>\n",
       "<table border=\"1\" class=\"dataframe\">\n",
       "  <thead>\n",
       "    <tr style=\"text-align: right;\">\n",
       "      <th></th>\n",
       "      <th>dt</th>\n",
       "      <th>AverageTemperature</th>\n",
       "      <th>AverageTemperatureUncertainty</th>\n",
       "      <th>State</th>\n",
       "      <th>Country</th>\n",
       "    </tr>\n",
       "  </thead>\n",
       "  <tbody>\n",
       "    <tr>\n",
       "      <th>0</th>\n",
       "      <td>1855-05-01</td>\n",
       "      <td>25.544</td>\n",
       "      <td>1.171</td>\n",
       "      <td>Acre</td>\n",
       "      <td>Brazil</td>\n",
       "    </tr>\n",
       "    <tr>\n",
       "      <th>1</th>\n",
       "      <td>1855-06-01</td>\n",
       "      <td>24.228</td>\n",
       "      <td>1.103</td>\n",
       "      <td>Acre</td>\n",
       "      <td>Brazil</td>\n",
       "    </tr>\n",
       "    <tr>\n",
       "      <th>2</th>\n",
       "      <td>1855-07-01</td>\n",
       "      <td>24.371</td>\n",
       "      <td>1.044</td>\n",
       "      <td>Acre</td>\n",
       "      <td>Brazil</td>\n",
       "    </tr>\n",
       "    <tr>\n",
       "      <th>3</th>\n",
       "      <td>1855-08-01</td>\n",
       "      <td>25.427</td>\n",
       "      <td>1.073</td>\n",
       "      <td>Acre</td>\n",
       "      <td>Brazil</td>\n",
       "    </tr>\n",
       "    <tr>\n",
       "      <th>4</th>\n",
       "      <td>1855-09-01</td>\n",
       "      <td>25.675</td>\n",
       "      <td>1.014</td>\n",
       "      <td>Acre</td>\n",
       "      <td>Brazil</td>\n",
       "    </tr>\n",
       "  </tbody>\n",
       "</table>\n",
       "</div>"
      ],
      "text/plain": [
       "          dt  AverageTemperature  AverageTemperatureUncertainty State Country\n",
       "0 1855-05-01              25.544                          1.171  Acre  Brazil\n",
       "1 1855-06-01              24.228                          1.103  Acre  Brazil\n",
       "2 1855-07-01              24.371                          1.044  Acre  Brazil\n",
       "3 1855-08-01              25.427                          1.073  Acre  Brazil\n",
       "4 1855-09-01              25.675                          1.014  Acre  Brazil"
      ]
     },
     "execution_count": 14,
     "metadata": {},
     "output_type": "execute_result"
    }
   ],
   "source": [
    "df = pd.read_csv('https://docs.google.com/uc?export=download&id=1WNi8Y_Qkz413LbnfptsQupmdyOGEb3kL',\n",
    "                parse_dates=['dt'])\n",
    "df.head()"
   ]
  },
  {
   "cell_type": "markdown",
   "metadata": {
    "id": "UPjBepi0CYoL"
   },
   "source": [
    "Dataframes are like arrays, but they are also like databases. We can aggregate data and perform analysis on the results by groups.\n",
    "\n",
    "If we wanted to look at temperatures by country, we will have to groupby the column \"Country\". This can be done with the pandas command groupby.\n",
    "\n",
    "Groupby requires you to indicate what you want to do with the data once it has been grouped. If you want to find out how many instances of each country are in the dataset, and find out what countries are here, we can use .count(). () must be used after count in order to call the function."
   ]
  },
  {
   "cell_type": "code",
   "execution_count": 15,
   "metadata": {
    "colab": {
     "base_uri": "https://localhost:8080/",
     "height": 300
    },
    "executionInfo": {
     "elapsed": 1357,
     "status": "ok",
     "timestamp": 1687550466275,
     "user": {
      "displayName": "Maya Bhat",
      "userId": "03735072487575824490"
     },
     "user_tz": 240
    },
    "id": "Na2YraYf1gHD",
    "outputId": "b01525e4-aadd-493c-8fb8-35d5498b2894"
   },
   "outputs": [
    {
     "data": {
      "text/html": [
       "<div>\n",
       "<style scoped>\n",
       "    .dataframe tbody tr th:only-of-type {\n",
       "        vertical-align: middle;\n",
       "    }\n",
       "\n",
       "    .dataframe tbody tr th {\n",
       "        vertical-align: top;\n",
       "    }\n",
       "\n",
       "    .dataframe thead th {\n",
       "        text-align: right;\n",
       "    }\n",
       "</style>\n",
       "<table border=\"1\" class=\"dataframe\">\n",
       "  <thead>\n",
       "    <tr style=\"text-align: right;\">\n",
       "      <th></th>\n",
       "      <th>dt</th>\n",
       "      <th>AverageTemperature</th>\n",
       "      <th>AverageTemperatureUncertainty</th>\n",
       "      <th>State</th>\n",
       "    </tr>\n",
       "    <tr>\n",
       "      <th>Country</th>\n",
       "      <th></th>\n",
       "      <th></th>\n",
       "      <th></th>\n",
       "      <th></th>\n",
       "    </tr>\n",
       "  </thead>\n",
       "  <tbody>\n",
       "    <tr>\n",
       "      <th>Australia</th>\n",
       "      <td>16102</td>\n",
       "      <td>15905</td>\n",
       "      <td>15905</td>\n",
       "      <td>16102</td>\n",
       "    </tr>\n",
       "    <tr>\n",
       "      <th>Brazil</th>\n",
       "      <td>34328</td>\n",
       "      <td>32451</td>\n",
       "      <td>32451</td>\n",
       "      <td>34328</td>\n",
       "    </tr>\n",
       "    <tr>\n",
       "      <th>Canada</th>\n",
       "      <td>35358</td>\n",
       "      <td>32146</td>\n",
       "      <td>32146</td>\n",
       "      <td>35358</td>\n",
       "    </tr>\n",
       "    <tr>\n",
       "      <th>China</th>\n",
       "      <td>68506</td>\n",
       "      <td>67726</td>\n",
       "      <td>67726</td>\n",
       "      <td>68506</td>\n",
       "    </tr>\n",
       "    <tr>\n",
       "      <th>India</th>\n",
       "      <td>86664</td>\n",
       "      <td>81620</td>\n",
       "      <td>81620</td>\n",
       "      <td>86664</td>\n",
       "    </tr>\n",
       "    <tr>\n",
       "      <th>Russia</th>\n",
       "      <td>254972</td>\n",
       "      <td>248249</td>\n",
       "      <td>248249</td>\n",
       "      <td>254972</td>\n",
       "    </tr>\n",
       "    <tr>\n",
       "      <th>United States</th>\n",
       "      <td>149745</td>\n",
       "      <td>141930</td>\n",
       "      <td>141930</td>\n",
       "      <td>149745</td>\n",
       "    </tr>\n",
       "  </tbody>\n",
       "</table>\n",
       "</div>"
      ],
      "text/plain": [
       "                   dt  AverageTemperature  AverageTemperatureUncertainty  \\\n",
       "Country                                                                    \n",
       "Australia       16102               15905                          15905   \n",
       "Brazil          34328               32451                          32451   \n",
       "Canada          35358               32146                          32146   \n",
       "China           68506               67726                          67726   \n",
       "India           86664               81620                          81620   \n",
       "Russia         254972              248249                         248249   \n",
       "United States  149745              141930                         141930   \n",
       "\n",
       "                State  \n",
       "Country                \n",
       "Australia       16102  \n",
       "Brazil          34328  \n",
       "Canada          35358  \n",
       "China           68506  \n",
       "India           86664  \n",
       "Russia         254972  \n",
       "United States  149745  "
      ]
     },
     "execution_count": 15,
     "metadata": {},
     "output_type": "execute_result"
    }
   ],
   "source": [
    "df.groupby('Country').count()"
   ]
  },
  {
   "cell_type": "markdown",
   "metadata": {
    "id": "mbJwqxqYC8mN"
   },
   "source": [
    "We can see here that 7 countries are in this dataframe, and we can also see how many entries in the dataset belongs to which country. If we wanted to see the average values associated with each country, we can use the function mean. Mean will provide the average values for each numeric column."
   ]
  },
  {
   "cell_type": "code",
   "execution_count": 16,
   "metadata": {
    "colab": {
     "base_uri": "https://localhost:8080/",
     "height": 355
    },
    "executionInfo": {
     "elapsed": 236,
     "status": "ok",
     "timestamp": 1687550466508,
     "user": {
      "displayName": "Maya Bhat",
      "userId": "03735072487575824490"
     },
     "user_tz": 240
    },
    "id": "XZlaDAjy_tS2",
    "outputId": "e3c70585-ff2e-4018-97a1-f1332b6e1c37"
   },
   "outputs": [
    {
     "data": {
      "text/html": [
       "<div>\n",
       "<style scoped>\n",
       "    .dataframe tbody tr th:only-of-type {\n",
       "        vertical-align: middle;\n",
       "    }\n",
       "\n",
       "    .dataframe tbody tr th {\n",
       "        vertical-align: top;\n",
       "    }\n",
       "\n",
       "    .dataframe thead th {\n",
       "        text-align: right;\n",
       "    }\n",
       "</style>\n",
       "<table border=\"1\" class=\"dataframe\">\n",
       "  <thead>\n",
       "    <tr style=\"text-align: right;\">\n",
       "      <th></th>\n",
       "      <th>AverageTemperature</th>\n",
       "      <th>AverageTemperatureUncertainty</th>\n",
       "    </tr>\n",
       "    <tr>\n",
       "      <th>Country</th>\n",
       "      <th></th>\n",
       "      <th></th>\n",
       "    </tr>\n",
       "  </thead>\n",
       "  <tbody>\n",
       "    <tr>\n",
       "      <th>Australia</th>\n",
       "      <td>17.664222</td>\n",
       "      <td>0.576306</td>\n",
       "    </tr>\n",
       "    <tr>\n",
       "      <th>Brazil</th>\n",
       "      <td>23.770601</td>\n",
       "      <td>0.768168</td>\n",
       "    </tr>\n",
       "    <tr>\n",
       "      <th>Canada</th>\n",
       "      <td>-1.321079</td>\n",
       "      <td>1.608931</td>\n",
       "    </tr>\n",
       "    <tr>\n",
       "      <th>China</th>\n",
       "      <td>11.206830</td>\n",
       "      <td>0.887938</td>\n",
       "    </tr>\n",
       "    <tr>\n",
       "      <th>India</th>\n",
       "      <td>22.534576</td>\n",
       "      <td>0.868932</td>\n",
       "    </tr>\n",
       "    <tr>\n",
       "      <th>Russia</th>\n",
       "      <td>1.808555</td>\n",
       "      <td>1.616641</td>\n",
       "    </tr>\n",
       "    <tr>\n",
       "      <th>United States</th>\n",
       "      <td>10.701555</td>\n",
       "      <td>1.269450</td>\n",
       "    </tr>\n",
       "  </tbody>\n",
       "</table>\n",
       "</div>"
      ],
      "text/plain": [
       "               AverageTemperature  AverageTemperatureUncertainty\n",
       "Country                                                         \n",
       "Australia               17.664222                       0.576306\n",
       "Brazil                  23.770601                       0.768168\n",
       "Canada                  -1.321079                       1.608931\n",
       "China                   11.206830                       0.887938\n",
       "India                   22.534576                       0.868932\n",
       "Russia                   1.808555                       1.616641\n",
       "United States           10.701555                       1.269450"
      ]
     },
     "execution_count": 16,
     "metadata": {},
     "output_type": "execute_result"
    }
   ],
   "source": [
    "df.groupby('Country').mean(numeric_only=True)"
   ]
  },
  {
   "cell_type": "markdown",
   "metadata": {},
   "source": [
    "Again, we see some countries are hotter, and some are colder. There is no real surprise in here."
   ]
  },
  {
   "cell_type": "markdown",
   "metadata": {
    "id": "WmimgHTdI5fg"
   },
   "source": [
    "In the next step, we look at the time series of data. Here we have to do some \"filtering\" and \"cleaning\". \n",
    "\n",
    "Lets say we wanted to look at the change in temperature in the US for the time periods in the file.\n",
    "\n",
    "1. Get the US rows.\n",
    "2. Remove any rows with empty data entries.\n",
    "3. Average the state temperatures based on date.\n",
    "4. Plot the averages.\n",
    "\n",
    "First, we filter and drop empty rows."
   ]
  },
  {
   "cell_type": "code",
   "execution_count": 17,
   "metadata": {
    "colab": {
     "base_uri": "https://localhost:8080/",
     "height": 424
    },
    "executionInfo": {
     "elapsed": 478,
     "status": "ok",
     "timestamp": 1687550466981,
     "user": {
      "displayName": "Maya Bhat",
      "userId": "03735072487575824490"
     },
     "user_tz": 240
    },
    "id": "eCmcPF8HIkSz",
    "outputId": "acaf84a3-8c3b-4112-8d16-8e5d655e2830"
   },
   "outputs": [
    {
     "data": {
      "text/html": [
       "<div>\n",
       "<style scoped>\n",
       "    .dataframe tbody tr th:only-of-type {\n",
       "        vertical-align: middle;\n",
       "    }\n",
       "\n",
       "    .dataframe tbody tr th {\n",
       "        vertical-align: top;\n",
       "    }\n",
       "\n",
       "    .dataframe thead th {\n",
       "        text-align: right;\n",
       "    }\n",
       "</style>\n",
       "<table border=\"1\" class=\"dataframe\">\n",
       "  <thead>\n",
       "    <tr style=\"text-align: right;\">\n",
       "      <th></th>\n",
       "      <th>dt</th>\n",
       "      <th>AverageTemperature</th>\n",
       "      <th>AverageTemperatureUncertainty</th>\n",
       "      <th>State</th>\n",
       "      <th>Country</th>\n",
       "    </tr>\n",
       "  </thead>\n",
       "  <tbody>\n",
       "    <tr>\n",
       "      <th>7458</th>\n",
       "      <td>1743-11-01</td>\n",
       "      <td>10.722</td>\n",
       "      <td>2.898</td>\n",
       "      <td>Alabama</td>\n",
       "      <td>United States</td>\n",
       "    </tr>\n",
       "    <tr>\n",
       "      <th>7463</th>\n",
       "      <td>1744-04-01</td>\n",
       "      <td>19.075</td>\n",
       "      <td>2.902</td>\n",
       "      <td>Alabama</td>\n",
       "      <td>United States</td>\n",
       "    </tr>\n",
       "    <tr>\n",
       "      <th>7464</th>\n",
       "      <td>1744-05-01</td>\n",
       "      <td>21.197</td>\n",
       "      <td>2.844</td>\n",
       "      <td>Alabama</td>\n",
       "      <td>United States</td>\n",
       "    </tr>\n",
       "    <tr>\n",
       "      <th>7465</th>\n",
       "      <td>1744-06-01</td>\n",
       "      <td>25.290</td>\n",
       "      <td>2.879</td>\n",
       "      <td>Alabama</td>\n",
       "      <td>United States</td>\n",
       "    </tr>\n",
       "    <tr>\n",
       "      <th>7466</th>\n",
       "      <td>1744-07-01</td>\n",
       "      <td>26.420</td>\n",
       "      <td>2.841</td>\n",
       "      <td>Alabama</td>\n",
       "      <td>United States</td>\n",
       "    </tr>\n",
       "    <tr>\n",
       "      <th>...</th>\n",
       "      <td>...</td>\n",
       "      <td>...</td>\n",
       "      <td>...</td>\n",
       "      <td>...</td>\n",
       "      <td>...</td>\n",
       "    </tr>\n",
       "    <tr>\n",
       "      <th>626435</th>\n",
       "      <td>2013-05-01</td>\n",
       "      <td>10.607</td>\n",
       "      <td>0.208</td>\n",
       "      <td>Wyoming</td>\n",
       "      <td>United States</td>\n",
       "    </tr>\n",
       "    <tr>\n",
       "      <th>626436</th>\n",
       "      <td>2013-06-01</td>\n",
       "      <td>16.267</td>\n",
       "      <td>0.276</td>\n",
       "      <td>Wyoming</td>\n",
       "      <td>United States</td>\n",
       "    </tr>\n",
       "    <tr>\n",
       "      <th>626437</th>\n",
       "      <td>2013-07-01</td>\n",
       "      <td>20.222</td>\n",
       "      <td>0.133</td>\n",
       "      <td>Wyoming</td>\n",
       "      <td>United States</td>\n",
       "    </tr>\n",
       "    <tr>\n",
       "      <th>626438</th>\n",
       "      <td>2013-08-01</td>\n",
       "      <td>19.621</td>\n",
       "      <td>0.217</td>\n",
       "      <td>Wyoming</td>\n",
       "      <td>United States</td>\n",
       "    </tr>\n",
       "    <tr>\n",
       "      <th>626439</th>\n",
       "      <td>2013-09-01</td>\n",
       "      <td>15.811</td>\n",
       "      <td>1.101</td>\n",
       "      <td>Wyoming</td>\n",
       "      <td>United States</td>\n",
       "    </tr>\n",
       "  </tbody>\n",
       "</table>\n",
       "<p>141930 rows × 5 columns</p>\n",
       "</div>"
      ],
      "text/plain": [
       "               dt  AverageTemperature  AverageTemperatureUncertainty    State  \\\n",
       "7458   1743-11-01              10.722                          2.898  Alabama   \n",
       "7463   1744-04-01              19.075                          2.902  Alabama   \n",
       "7464   1744-05-01              21.197                          2.844  Alabama   \n",
       "7465   1744-06-01              25.290                          2.879  Alabama   \n",
       "7466   1744-07-01              26.420                          2.841  Alabama   \n",
       "...           ...                 ...                            ...      ...   \n",
       "626435 2013-05-01              10.607                          0.208  Wyoming   \n",
       "626436 2013-06-01              16.267                          0.276  Wyoming   \n",
       "626437 2013-07-01              20.222                          0.133  Wyoming   \n",
       "626438 2013-08-01              19.621                          0.217  Wyoming   \n",
       "626439 2013-09-01              15.811                          1.101  Wyoming   \n",
       "\n",
       "              Country  \n",
       "7458    United States  \n",
       "7463    United States  \n",
       "7464    United States  \n",
       "7465    United States  \n",
       "7466    United States  \n",
       "...               ...  \n",
       "626435  United States  \n",
       "626436  United States  \n",
       "626437  United States  \n",
       "626438  United States  \n",
       "626439  United States  \n",
       "\n",
       "[141930 rows x 5 columns]"
      ]
     },
     "execution_count": 17,
     "metadata": {},
     "output_type": "execute_result"
    }
   ],
   "source": [
    "dfus = df[df.Country == 'United States'].copy()\n",
    "dfus.dropna(inplace = True)\n",
    "dfus"
   ]
  },
  {
   "cell_type": "code",
   "execution_count": 18,
   "metadata": {},
   "outputs": [
    {
     "data": {
      "text/plain": [
       "(Timestamp('1743-11-01 00:00:00'), Timestamp('2013-09-01 00:00:00'))"
      ]
     },
     "execution_count": 18,
     "metadata": {},
     "output_type": "execute_result"
    }
   ],
   "source": [
    "# Check the date range\n",
    "dfus['dt'].min(), dfus['dt'].max()"
   ]
  },
  {
   "cell_type": "markdown",
   "metadata": {
    "id": "6pQWjTkjQkrI"
   },
   "source": [
    "Now the data has been reduced to only include US data however it is clear from this snapshot that we have data from each year from each state. Somehow we need to get the averages of all of the states for each year in order to get the average temperature in the US for each year.\n",
    "\n",
    "We can do this with groupby again. We group by the date which gathers all entries for each date into a group, and then we get the average of every group."
   ]
  },
  {
   "cell_type": "code",
   "execution_count": 19,
   "metadata": {
    "colab": {
     "base_uri": "https://localhost:8080/",
     "height": 292
    },
    "executionInfo": {
     "elapsed": 201,
     "status": "ok",
     "timestamp": 1687550467176,
     "user": {
      "displayName": "Maya Bhat",
      "userId": "03735072487575824490"
     },
     "user_tz": 240
    },
    "id": "w9Uvj4zHPas1",
    "outputId": "9a5b748e-3381-46ef-f4a9-73a1e36fe860"
   },
   "outputs": [
    {
     "data": {
      "text/plain": [
       "(      AverageTemperature  AverageTemperatureUncertainty\n",
       " dt                                                     \n",
       " 1743            4.544966                       2.594828\n",
       " 1744           12.837651                       2.554272\n",
       " 1745            2.649112                       2.417302\n",
       " 1750           11.339737                       2.475925\n",
       " 1751           12.039267                       2.426216,\n",
       "       AverageTemperature  AverageTemperatureUncertainty\n",
       " dt                                                     \n",
       " 2009           11.156327                       0.220114\n",
       " 2010           11.732877                       0.211351\n",
       " 2011           11.811093                       0.232825\n",
       " 2012           12.761842                       0.269340\n",
       " 2013           13.077626                       0.337928)"
      ]
     },
     "execution_count": 19,
     "metadata": {},
     "output_type": "execute_result"
    }
   ],
   "source": [
    "dfusAvg = dfus.groupby(df['dt'].dt.year).mean(numeric_only=True)\n",
    "dfusAvg.head(), dfusAvg.tail()"
   ]
  },
  {
   "cell_type": "code",
   "execution_count": 20,
   "metadata": {
    "colab": {
     "base_uri": "https://localhost:8080/",
     "height": 447
    },
    "executionInfo": {
     "elapsed": 361,
     "status": "ok",
     "timestamp": 1687550549979,
     "user": {
      "displayName": "Maya Bhat",
      "userId": "03735072487575824490"
     },
     "user_tz": 240
    },
    "id": "7uIIvMELQIAU",
    "outputId": "e7cc1577-5877-49cd-9a2b-23ba376715d7"
   },
   "outputs": [
    {
     "data": {
      "image/png": "[encoded data removed]",
      "text/plain": [
       "<Figure size 640x480 with 1 Axes>"
      ]
     },
     "metadata": {},
     "output_type": "display_data"
    }
   ],
   "source": [
    "dfusAvg.plot(y='AverageTemperature');"
   ]
  },
  {
   "cell_type": "code",
   "execution_count": 21,
   "metadata": {},
   "outputs": [
    {
     "data": {
      "text/plain": [
       "(AverageTemperature               2013\n",
       " AverageTemperatureUncertainty    1758\n",
       " dtype: int64,\n",
       " AverageTemperature               13.077626\n",
       " AverageTemperatureUncertainty     4.543165\n",
       " dtype: float64)"
      ]
     },
     "execution_count": 21,
     "metadata": {},
     "output_type": "execute_result"
    }
   ],
   "source": [
    "dfusAvg.idxmax(), dfusAvg.max()"
   ]
  },
  {
   "cell_type": "markdown",
   "metadata": {},
   "source": [
    "There is a lot more noise in the earliest data. There could be natural explanations for some of the spikes, e.g. volcanic eruptions can cause variations in global temperatures. Obviously you cannot fit a simple line to all this data. There are lots of \"wiggles\" and nonlinear change here.\n",
    "\n",
    "Nevertheless, the highest temperature here is the most modern one, and even that is 10 years old now. According to https://www.weather.gov/media/slc/ClimateBook/Annual%20Average%20Temperature%20By%20Year.pdf, the average temperature in the US for 2022 was 55.9 degF. That is 13.3 degC, which is even warmer!"
   ]
  },
  {
   "cell_type": "code",
   "execution_count": 22,
   "metadata": {},
   "outputs": [
    {
     "data": {
      "text/plain": [
       "13.277777777777779"
      ]
     },
     "execution_count": 22,
     "metadata": {},
     "output_type": "execute_result"
    }
   ],
   "source": [
    "(55.9 - 32) * 5 / 9  # convert Fahrenheit to Celcius."
   ]
  },
  {
   "cell_type": "markdown",
   "metadata": {},
   "source": [
    "# Conclusions\n",
    "\n",
    "We have done a lot today! We learned about Jupyter lab, some basic Python, using Python with numpy, matplotlib, pandas and pycse to do data analysis, reading a data file, and then using pandas for aggregating data to do analysis on it.\n",
    "\n",
    "Each of these topics is an iceberg of content on their own, and we only covered just enough to get us here. There is much more to learn. See the [resources](introduction.ipynb#Resources) for additional reading materials you might find useful as you progress on your Python journey. The best starting point is to build a strong foundation in [pycse](https://kitchingroup.cheme.cmu.edu/pycse/intro.html) for numerical and computational problem solving. After that, [The Python Data Science Handbook](https://jakevdp.github.io/PythonDataScienceHandbook/) is an excellent resource to learn much more about data science. A more advanced resource is [Data science and machine learning in engineering and science](https://kitchingroup.cheme.cmu.edu/dsmles/intro.html). "
   ]
  },
  {
   "cell_type": "markdown",
   "metadata": {
    "colab": {
     "base_uri": "https://localhost:8080/"
    },
    "executionInfo": {
     "elapsed": 208,
     "status": "ok",
     "timestamp": 1687550540454,
     "user": {
      "displayName": "Maya Bhat",
      "userId": "03735072487575824490"
     },
     "user_tz": 240
    },
    "id": "hM-liQU11-75",
    "outputId": "03ad51d4-a33a-4fce-f6bb-62ed36a6f9a0"
   },
   "source": [
    "# Project\n",
    "\n",
    "With the remaining time, we suggest that you work on a small project to \n",
    "See the [project description](project.ipynb) for the next steps."
   ]
  }
 ],
 "metadata": {
  "colab": {
   "authorship_tag": "ABX9TyP2Qj35f+6AgBDvZTEnId1x",
   "mount_file_id": "1-mMDAPq5OTwWquLn_cVgo1As1QIPAMbR",
   "provenance": []
  },
  "kernelspec": {
   "display_name": "Python 3 (ipykernel)",
   "language": "python",
   "name": "python3"
  },
  "language_info": {
   "codemirror_mode": {
    "name": "ipython",
    "version": 3
   },
   "file_extension": ".py",
   "mimetype": "text/x-python",
   "name": "python",
   "nbconvert_exporter": "python",
   "pygments_lexer": "ipython3",
   "version": "3.10.11"
  }
 },
 "nbformat": 4,
 "nbformat_minor": 4
}
